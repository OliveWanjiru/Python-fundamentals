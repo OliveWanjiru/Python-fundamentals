{
 "cells": [
  {
   "cell_type": "markdown",
   "id": "0d71b90e-c95e-4de0-85b2-d32608a3eac4",
   "metadata": {},
   "source": [
    "Importing text files into Python"
   ]
  },
  {
   "cell_type": "code",
   "execution_count": 95,
   "id": "7e35f01f-dd0e-4ba3-b3c2-15763ad3265c",
   "metadata": {},
   "outputs": [],
   "source": [
    "filename = \"C:/Users/user/Downloads/L10/source.txt\""
   ]
  },
  {
   "cell_type": "code",
   "execution_count": 97,
   "id": "029b9744-8bc0-4334-b81c-c5b233570186",
   "metadata": {},
   "outputs": [
    {
     "data": {
      "text/plain": [
       "'C:/Users/user/Downloads/L10/source.txt'"
      ]
     },
     "execution_count": 97,
     "metadata": {},
     "output_type": "execute_result"
    }
   ],
   "source": [
    "filename"
   ]
  },
  {
   "cell_type": "code",
   "execution_count": 99,
   "id": "436053c0-2a7c-4d4b-a5b6-f05ff77e731e",
   "metadata": {},
   "outputs": [],
   "source": [
    "file = open(filename, mode = 'r', encoding = 'UTF-8')"
   ]
  },
  {
   "cell_type": "code",
   "execution_count": 101,
   "id": "3f63679c-4efb-42d5-a609-6f13af83b443",
   "metadata": {},
   "outputs": [
    {
     "data": {
      "text/plain": [
       "<_io.TextIOWrapper name='C:/Users/user/Downloads/L10/source.txt' mode='r' encoding='UTF-8'>"
      ]
     },
     "execution_count": 101,
     "metadata": {},
     "output_type": "execute_result"
    }
   ],
   "source": [
    "file"
   ]
  },
  {
   "cell_type": "code",
   "execution_count": 103,
   "id": "b54074da-2fa1-48e9-8a2c-08920c109133",
   "metadata": {},
   "outputs": [
    {
     "data": {
      "text/plain": [
       "'This is the simplest plain text file!\\n'"
      ]
     },
     "execution_count": 103,
     "metadata": {},
     "output_type": "execute_result"
    }
   ],
   "source": [
    "file.read()"
   ]
  },
  {
   "cell_type": "code",
   "execution_count": 107,
   "id": "d2f36123-f769-49fa-bc1b-e19ca4b795aa",
   "metadata": {},
   "outputs": [
    {
     "data": {
      "text/plain": [
       "'This is the simplest plain text file!\\n'"
      ]
     },
     "execution_count": 107,
     "metadata": {},
     "output_type": "execute_result"
    }
   ],
   "source": [
    "file = open(filename, mode ='r')\n",
    "text = file.read()\n",
    "text"
   ]
  },
  {
   "cell_type": "markdown",
   "id": "0a99c18a-c679-4764-b363-066094540db8",
   "metadata": {},
   "source": [
    "Closing connections to close the link between python and your notebook file"
   ]
  },
  {
   "cell_type": "code",
   "execution_count": 110,
   "id": "e9dfbaa1-e3dc-4a10-8422-1edd0cb14074",
   "metadata": {},
   "outputs": [
    {
     "data": {
      "text/plain": [
       "False"
      ]
     },
     "execution_count": 110,
     "metadata": {},
     "output_type": "execute_result"
    }
   ],
   "source": [
    "file.closed"
   ]
  },
  {
   "cell_type": "code",
   "execution_count": 112,
   "id": "63df3957-2681-4400-92ea-5f8df0b51004",
   "metadata": {},
   "outputs": [],
   "source": [
    "file.close()"
   ]
  },
  {
   "cell_type": "code",
   "execution_count": 114,
   "id": "6cc31593-8688-4963-ad4d-1cf82be92ddb",
   "metadata": {},
   "outputs": [
    {
     "data": {
      "text/plain": [
       "True"
      ]
     },
     "execution_count": 114,
     "metadata": {},
     "output_type": "execute_result"
    }
   ],
   "source": [
    "file.closed"
   ]
  },
  {
   "cell_type": "code",
   "execution_count": 116,
   "id": "c8526342-5310-4240-aa28-b6fd62b59a22",
   "metadata": {},
   "outputs": [
    {
     "name": "stdout",
     "output_type": "stream",
     "text": [
      "This is the simplest plain text file!\n",
      "\n"
     ]
    }
   ],
   "source": [
    "print(text)"
   ]
  },
  {
   "cell_type": "code",
   "execution_count": null,
   "id": "e4e965b2-509d-497c-9a78-67f90db290dc",
   "metadata": {},
   "outputs": [],
   "source": []
  }
 ],
 "metadata": {
  "kernelspec": {
   "display_name": "Python 3 (ipykernel)",
   "language": "python",
   "name": "python3"
  },
  "language_info": {
   "codemirror_mode": {
    "name": "ipython",
    "version": 3
   },
   "file_extension": ".py",
   "mimetype": "text/x-python",
   "name": "python",
   "nbconvert_exporter": "python",
   "pygments_lexer": "ipython3",
   "version": "3.12.7"
  }
 },
 "nbformat": 4,
 "nbformat_minor": 5
}

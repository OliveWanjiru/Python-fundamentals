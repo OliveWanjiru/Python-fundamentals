{
 "cells": [
  {
   "cell_type": "code",
   "execution_count": 1,
   "id": "0762f609-0372-45fd-9ac8-3124706c0790",
   "metadata": {},
   "outputs": [],
   "source": [
    "import pandas as pd"
   ]
  },
  {
   "cell_type": "code",
   "execution_count": 5,
   "id": "12918512-9fb2-457a-a537-281540409d51",
   "metadata": {},
   "outputs": [
    {
     "data": {
      "text/plain": [
       "'2.2.3'"
      ]
     },
     "execution_count": 5,
     "metadata": {},
     "output_type": "execute_result"
    }
   ],
   "source": [
    "pd.__version__"
   ]
  },
  {
   "cell_type": "markdown",
   "id": "d9c810d8-bb39-411c-a882-99ad069292a4",
   "metadata": {},
   "source": [
    "Introduction to pandas series"
   ]
  },
  {
   "cell_type": "code",
   "execution_count": 8,
   "id": "65dce490-1005-438c-bc17-a1ee2e150824",
   "metadata": {},
   "outputs": [
    {
     "data": {
      "text/plain": [
       "['A', 'B', 'C', 'D']"
      ]
     },
     "execution_count": 8,
     "metadata": {},
     "output_type": "execute_result"
    }
   ],
   "source": [
    "products = ['A','B','C','D']\n",
    "products"
   ]
  },
  {
   "cell_type": "code",
   "execution_count": 10,
   "id": "b5e77a3b-3942-4c02-abfe-db4386f6993d",
   "metadata": {},
   "outputs": [
    {
     "data": {
      "text/plain": [
       "list"
      ]
     },
     "execution_count": 10,
     "metadata": {},
     "output_type": "execute_result"
    }
   ],
   "source": [
    "type(products)"
   ]
  },
  {
   "cell_type": "code",
   "execution_count": 14,
   "id": "9b96fe4e-fa05-43c1-a6a8-6f56d4d9cdec",
   "metadata": {},
   "outputs": [],
   "source": [
    "product_categories = pd.Series(products)"
   ]
  },
  {
   "cell_type": "code",
   "execution_count": 16,
   "id": "cf26d6ba-ae6d-4998-87c9-8440b2c17376",
   "metadata": {},
   "outputs": [
    {
     "data": {
      "text/plain": [
       "0    A\n",
       "1    B\n",
       "2    C\n",
       "3    D\n",
       "dtype: object"
      ]
     },
     "execution_count": 16,
     "metadata": {},
     "output_type": "execute_result"
    }
   ],
   "source": [
    "product_categories"
   ]
  },
  {
   "cell_type": "markdown",
   "id": "d983c42d-66fc-437e-8862-00de1dd156a7",
   "metadata": {},
   "source": [
    "the set of values on the left of the products are called index of values"
   ]
  },
  {
   "cell_type": "markdown",
   "id": "33d90d4e-5c3a-45ee-987c-8342cacc12ae",
   "metadata": {},
   "source": [
    "object is the default data type assigned to the data which is not numeric dtype is data type"
   ]
  },
  {
   "cell_type": "code",
   "execution_count": 21,
   "id": "d8264e52-3853-4a8a-9e47-4ef07fcb00b8",
   "metadata": {},
   "outputs": [
    {
     "data": {
      "text/plain": [
       "pandas.core.series.Series"
      ]
     },
     "execution_count": 21,
     "metadata": {},
     "output_type": "execute_result"
    }
   ],
   "source": [
    "type(product_categories)\n"
   ]
  },
  {
   "cell_type": "code",
   "execution_count": 23,
   "id": "2d050534-531f-427d-add2-59c67433cf5b",
   "metadata": {},
   "outputs": [
    {
     "data": {
      "text/plain": [
       "pandas.core.series.Series"
      ]
     },
     "execution_count": 23,
     "metadata": {},
     "output_type": "execute_result"
    }
   ],
   "source": [
    "type(pd.Series(products))"
   ]
  },
  {
   "cell_type": "code",
   "execution_count": 27,
   "id": "5f96daea-7f24-44cf-bd34-e518ede2663c",
   "metadata": {},
   "outputs": [
    {
     "data": {
      "text/plain": [
       "0    40\n",
       "1    45\n",
       "2    50\n",
       "3    60\n",
       "dtype: int64"
      ]
     },
     "execution_count": 27,
     "metadata": {},
     "output_type": "execute_result"
    }
   ],
   "source": [
    "daily_rates_dollars = pd.Series([40, 45, 50, 60])\n",
    "daily_rates_dollars"
   ]
  },
  {
   "cell_type": "code",
   "execution_count": 29,
   "id": "b770ec33-d453-4708-98d1-ea4ded3bf52b",
   "metadata": {},
   "outputs": [],
   "source": [
    "import numpy as np"
   ]
  },
  {
   "cell_type": "code",
   "execution_count": 31,
   "id": "bc118218-e5a7-4152-ac86-eab73b250225",
   "metadata": {},
   "outputs": [
    {
     "data": {
      "text/plain": [
       "array([10, 20, 30, 40, 50])"
      ]
     },
     "execution_count": 31,
     "metadata": {},
     "output_type": "execute_result"
    }
   ],
   "source": [
    "array_a = np.array([10, 20, 30, 40, 50])\n",
    "array_a"
   ]
  },
  {
   "cell_type": "code",
   "execution_count": 35,
   "id": "45e7899c-c9a1-4b64-9fed-a80362978213",
   "metadata": {},
   "outputs": [
    {
     "data": {
      "text/plain": [
       "numpy.ndarray"
      ]
     },
     "execution_count": 35,
     "metadata": {},
     "output_type": "execute_result"
    }
   ],
   "source": [
    "type(array_a)"
   ]
  },
  {
   "cell_type": "code",
   "execution_count": 37,
   "id": "aaf94f81-37ff-43f0-810b-7a9ffb7249c0",
   "metadata": {},
   "outputs": [
    {
     "data": {
      "text/plain": [
       "0    10\n",
       "1    20\n",
       "2    30\n",
       "3    40\n",
       "4    50\n",
       "dtype: int32"
      ]
     },
     "execution_count": 37,
     "metadata": {},
     "output_type": "execute_result"
    }
   ],
   "source": [
    "series_a = pd.Series(array_a)\n",
    "series_a"
   ]
  },
  {
   "cell_type": "code",
   "execution_count": 39,
   "id": "9ea296e2-a8c2-436f-baa4-b77b6bd40562",
   "metadata": {},
   "outputs": [
    {
     "data": {
      "text/plain": [
       "pandas.core.series.Series"
      ]
     },
     "execution_count": 39,
     "metadata": {},
     "output_type": "execute_result"
    }
   ],
   "source": [
    "type(series_a)"
   ]
  },
  {
   "cell_type": "code",
   "execution_count": 1,
   "id": "4ea2ea08-b35c-4ad1-a83d-22a3706c19e7",
   "metadata": {},
   "outputs": [
    {
     "name": "stdout",
     "output_type": "stream",
     "text": [
      "['Amy white', 'Jack Stewart', 'Richard Lauderdale', 'Sara Johnson']\n"
     ]
    }
   ],
   "source": [
    "employee_names = ['Amy white', 'Jack Stewart', 'Richard Lauderdale', 'Sara Johnson']\n",
    "print(employee_names)"
   ]
  },
  {
   "cell_type": "code",
   "execution_count": 3,
   "id": "d5725ea1-a6d7-4373-aa1d-f78cc950d38d",
   "metadata": {},
   "outputs": [
    {
     "data": {
      "text/plain": [
       "list"
      ]
     },
     "execution_count": 3,
     "metadata": {},
     "output_type": "execute_result"
    }
   ],
   "source": [
    "type(employee_names)"
   ]
  },
  {
   "cell_type": "code",
   "execution_count": 7,
   "id": "d28cdd16-8625-4b3b-8665-28e9bf507ef0",
   "metadata": {},
   "outputs": [],
   "source": [
    "import pandas as pd"
   ]
  },
  {
   "cell_type": "code",
   "execution_count": 9,
   "id": "563583e6-d490-4e31-90cb-e99acae9bd52",
   "metadata": {},
   "outputs": [],
   "source": [
    "employee_names_series = pd.Series(employee_names)"
   ]
  },
  {
   "cell_type": "code",
   "execution_count": 13,
   "id": "325a0dcb-dd98-4b0d-9d42-e0496ec68a7f",
   "metadata": {},
   "outputs": [
    {
     "data": {
      "text/plain": [
       "0             Amy white\n",
       "1          Jack Stewart\n",
       "2    Richard Lauderdale\n",
       "3          Sara Johnson\n",
       "dtype: object"
      ]
     },
     "execution_count": 13,
     "metadata": {},
     "output_type": "execute_result"
    }
   ],
   "source": [
    "employee_names_series"
   ]
  },
  {
   "cell_type": "code",
   "execution_count": 15,
   "id": "ff93afae-0973-4814-ba07-66cf69f9b60c",
   "metadata": {},
   "outputs": [
    {
     "data": {
      "text/plain": [
       "pandas.core.series.Series"
      ]
     },
     "execution_count": 15,
     "metadata": {},
     "output_type": "execute_result"
    }
   ],
   "source": [
    "type(employee_names_series)"
   ]
  },
  {
   "cell_type": "code",
   "execution_count": 19,
   "id": "eba32b40-80b1-4e24-a175-691dd67e9121",
   "metadata": {},
   "outputs": [
    {
     "data": {
      "text/plain": [
       "0     5\n",
       "1     8\n",
       "2     3\n",
       "3    10\n",
       "dtype: int64"
      ]
     },
     "execution_count": 19,
     "metadata": {},
     "output_type": "execute_result"
    }
   ],
   "source": [
    "work_experience_yrs = pd.Series([5, 8,3,10])\n",
    "work_experience_yrs"
   ]
  },
  {
   "cell_type": "markdown",
   "id": "6bbb2ab1-7db8-4b6d-b44c-ea5da1fb73a0",
   "metadata": {},
   "source": [
    "Execute the code cell below to create the array_1 NumPy array object:\n",
    "\n",
    "array_age = np.array([50, 53, 35, 43])"
   ]
  },
  {
   "cell_type": "code",
   "execution_count": 2,
   "id": "a93240d3-503a-4986-a852-d67fc2f5049e",
   "metadata": {},
   "outputs": [],
   "source": [
    "import numpy as np"
   ]
  },
  {
   "cell_type": "code",
   "execution_count": 4,
   "id": "346798e3-2742-4497-8026-e5efa08b64b1",
   "metadata": {},
   "outputs": [],
   "source": [
    "array_age = np.array([50,53,35,43])"
   ]
  },
  {
   "cell_type": "code",
   "execution_count": 6,
   "id": "33644752-ae78-4a69-a013-5e2f801abf6f",
   "metadata": {},
   "outputs": [
    {
     "data": {
      "text/plain": [
       "array([50, 53, 35, 43])"
      ]
     },
     "execution_count": 6,
     "metadata": {},
     "output_type": "execute_result"
    }
   ],
   "source": [
    "array_age"
   ]
  },
  {
   "cell_type": "code",
   "execution_count": 8,
   "id": "49d4ce2f-05a8-4bdf-b6af-d572cea475a4",
   "metadata": {},
   "outputs": [
    {
     "data": {
      "text/plain": [
       "numpy.ndarray"
      ]
     },
     "execution_count": 8,
     "metadata": {},
     "output_type": "execute_result"
    }
   ],
   "source": [
    "type(array_age)"
   ]
  },
  {
   "cell_type": "code",
   "execution_count": 14,
   "id": "c7b98457-9257-485d-b4e1-36eb2677dcda",
   "metadata": {},
   "outputs": [],
   "source": [
    "import pandas as pd"
   ]
  },
  {
   "cell_type": "code",
   "execution_count": 24,
   "id": "bcb8fe98-1903-4195-93d3-85c7185ec221",
   "metadata": {},
   "outputs": [
    {
     "data": {
      "text/plain": [
       "0    50\n",
       "1    53\n",
       "2    35\n",
       "3    43\n",
       "dtype: int32"
      ]
     },
     "execution_count": 24,
     "metadata": {},
     "output_type": "execute_result"
    }
   ],
   "source": [
    "array_age_series =pd.Series(array_age)\n",
    "array_age_series"
   ]
  },
  {
   "cell_type": "code",
   "execution_count": 26,
   "id": "8c73e598-64e0-405b-a713-fbe340912d7f",
   "metadata": {},
   "outputs": [
    {
     "data": {
      "text/plain": [
       "pandas.core.series.Series"
      ]
     },
     "execution_count": 26,
     "metadata": {},
     "output_type": "execute_result"
    }
   ],
   "source": [
    "type(array_age_series)"
   ]
  },
  {
   "cell_type": "code",
   "execution_count": null,
   "id": "ed1b3fe9-c0ee-4be4-93b5-fd404c3a8373",
   "metadata": {},
   "outputs": [],
   "source": []
  }
 ],
 "metadata": {
  "kernelspec": {
   "display_name": "Python 3 (ipykernel)",
   "language": "python",
   "name": "python3"
  },
  "language_info": {
   "codemirror_mode": {
    "name": "ipython",
    "version": 3
   },
   "file_extension": ".py",
   "mimetype": "text/x-python",
   "name": "python",
   "nbconvert_exporter": "python",
   "pygments_lexer": "ipython3",
   "version": "3.12.7"
  }
 },
 "nbformat": 4,
 "nbformat_minor": 5
}

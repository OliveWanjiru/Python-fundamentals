{
 "cells": [
  {
   "cell_type": "markdown",
   "id": "08197fa2-d79b-4e18-9538-6679fac8acd6",
   "metadata": {},
   "source": [
    "using NumPy"
   ]
  },
  {
   "cell_type": "code",
   "execution_count": 2,
   "id": "99be320c-4cbb-4b93-9be0-8bde5a200b0b",
   "metadata": {},
   "outputs": [],
   "source": [
    "import numpy as np"
   ]
  },
  {
   "cell_type": "markdown",
   "id": "19034b05-5964-4620-945f-266d248ac63d",
   "metadata": {},
   "source": [
    "Ndarray"
   ]
  },
  {
   "cell_type": "code",
   "execution_count": 5,
   "id": "4b178c94-38a2-49ef-bad6-c4353e7a9e43",
   "metadata": {},
   "outputs": [],
   "source": [
    "array_a = np.array([1,2,3])"
   ]
  },
  {
   "cell_type": "code",
   "execution_count": 7,
   "id": "4649150c-554e-436b-b43c-ec67a040b43d",
   "metadata": {},
   "outputs": [
    {
     "data": {
      "text/plain": [
       "array([1, 2, 3])"
      ]
     },
     "execution_count": 7,
     "metadata": {},
     "output_type": "execute_result"
    }
   ],
   "source": [
    "array_a"
   ]
  },
  {
   "cell_type": "code",
   "execution_count": 9,
   "id": "148809ed-7a96-496a-840a-048b9e2e3ab4",
   "metadata": {},
   "outputs": [
    {
     "data": {
      "text/plain": [
       "array([[1, 2, 3],\n",
       "       [4, 5, 6]])"
      ]
     },
     "execution_count": 9,
     "metadata": {},
     "output_type": "execute_result"
    }
   ],
   "source": [
    "array_b = np.array([[1,2,3],[4,5,6]])\n",
    "array_b"
   ]
  },
  {
   "cell_type": "markdown",
   "id": "22156ad0-f07f-471b-b688-32219acfe09e",
   "metadata": {},
   "source": [
    "N-D arrays are useful because they are the easiest way to use linear algebra in python"
   ]
  },
  {
   "cell_type": "markdown",
   "id": "e7b407ef-7ee0-4b06-a09e-5114f2806e9d",
   "metadata": {},
   "source": [
    "one can conduct element wise operations on them"
   ]
  },
  {
   "cell_type": "markdown",
   "id": "5d858afa-7273-4cfb-8a1a-b1c233f3caae",
   "metadata": {},
   "source": [
    "NumPy Documentation"
   ]
  },
  {
   "cell_type": "markdown",
   "id": "4d8f6653-9556-4be4-bcf1-208f11fb417b",
   "metadata": {},
   "source": [
    "https//numpy.org/devdocs/"
   ]
  },
  {
   "cell_type": "code",
   "execution_count": 17,
   "id": "a8c29620-9f29-4371-b252-c2ef6ce84115",
   "metadata": {},
   "outputs": [
    {
     "data": {
      "text/plain": [
       "array([2.5, 3.5, 4.5])"
      ]
     },
     "execution_count": 17,
     "metadata": {},
     "output_type": "execute_result"
    }
   ],
   "source": [
    "np.mean(array_b, axis = 0)"
   ]
  },
  {
   "cell_type": "code",
   "execution_count": null,
   "id": "a8ef15aa-57a7-4311-9783-0a2d8d89dac6",
   "metadata": {},
   "outputs": [],
   "source": []
  }
 ],
 "metadata": {
  "kernelspec": {
   "display_name": "Python 3 (ipykernel)",
   "language": "python",
   "name": "python3"
  },
  "language_info": {
   "codemirror_mode": {
    "name": "ipython",
    "version": 3
   },
   "file_extension": ".py",
   "mimetype": "text/x-python",
   "name": "python",
   "nbconvert_exporter": "python",
   "pygments_lexer": "ipython3",
   "version": "3.12.7"
  }
 },
 "nbformat": 4,
 "nbformat_minor": 5
}

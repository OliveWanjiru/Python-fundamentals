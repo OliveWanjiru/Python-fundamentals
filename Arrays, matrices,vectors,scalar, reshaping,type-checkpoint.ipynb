{
 "cells": [
  {
   "cell_type": "markdown",
   "id": "84bb9dfe-e128-455e-8181-c2e738852ee1",
   "metadata": {},
   "source": [
    "Import the Relevant Libraries"
   ]
  },
  {
   "cell_type": "code",
   "execution_count": 12,
   "id": "1f1b9387-4a76-4163-94a3-d3648c0df57d",
   "metadata": {},
   "outputs": [],
   "source": [
    "import numpy as np"
   ]
  },
  {
   "cell_type": "markdown",
   "id": "a441bacb-8782-4860-8006-1695109d4275",
   "metadata": {},
   "source": [
    "Declaring scalars, vectors, and matrices"
   ]
  },
  {
   "cell_type": "markdown",
   "id": "12458baf-8a37-4b3a-8f2f-0a017882ff3b",
   "metadata": {},
   "source": [
    "Scalars"
   ]
  },
  {
   "cell_type": "code",
   "execution_count": 18,
   "id": "fd6307e3-342e-480c-884f-a25c9db825e4",
   "metadata": {},
   "outputs": [
    {
     "data": {
      "text/plain": [
       "5"
      ]
     },
     "execution_count": 18,
     "metadata": {},
     "output_type": "execute_result"
    }
   ],
   "source": [
    "s = 5\n",
    "s"
   ]
  },
  {
   "cell_type": "code",
   "execution_count": null,
   "id": "3bff28b8-9dcf-462b-a7f1-a590b71b800b",
   "metadata": {},
   "outputs": [],
   "source": []
  },
  {
   "cell_type": "markdown",
   "id": "d3fd680b-adf5-4a94-86c1-951daf55c86a",
   "metadata": {},
   "source": [
    "Vectors"
   ]
  },
  {
   "cell_type": "code",
   "execution_count": 20,
   "id": "fadb2d10-9157-4f87-9d2e-2b87e5695adb",
   "metadata": {},
   "outputs": [
    {
     "data": {
      "text/plain": [
       "array([ 5, -2,  4])"
      ]
     },
     "execution_count": 20,
     "metadata": {},
     "output_type": "execute_result"
    }
   ],
   "source": [
    "v = np.array([5,-2,4])\n",
    "v"
   ]
  },
  {
   "cell_type": "code",
   "execution_count": null,
   "id": "e4ded9ea-1dcb-4640-9b7b-9d52947675b4",
   "metadata": {},
   "outputs": [],
   "source": []
  },
  {
   "cell_type": "markdown",
   "id": "a68e38d5-f996-44c5-98fb-a24ceda82491",
   "metadata": {},
   "source": [
    "Matrices"
   ]
  },
  {
   "cell_type": "code",
   "execution_count": 24,
   "id": "71e86ab1-f5f7-4756-910f-29d08b550af9",
   "metadata": {},
   "outputs": [
    {
     "data": {
      "text/plain": [
       "array([[ 5, 12,  6],\n",
       "       [-3,  0, 14]])"
      ]
     },
     "execution_count": 24,
     "metadata": {},
     "output_type": "execute_result"
    }
   ],
   "source": [
    "m = np.array([[5,12,6],[-3,0,14]])\n",
    "m"
   ]
  },
  {
   "cell_type": "markdown",
   "id": "ab64296c-2ad0-40e3-8289-4acf19091bed",
   "metadata": {},
   "source": [
    "Data types"
   ]
  },
  {
   "cell_type": "code",
   "execution_count": 27,
   "id": "88d8387b-cb41-4873-b9be-d65ea7506d9c",
   "metadata": {},
   "outputs": [],
   "source": [
    "#type(a)returns the data type of a given variable"
   ]
  },
  {
   "cell_type": "code",
   "execution_count": 29,
   "id": "0e3b05ef-8037-452e-8acb-f370e6b1a264",
   "metadata": {},
   "outputs": [
    {
     "data": {
      "text/plain": [
       "int"
      ]
     },
     "execution_count": 29,
     "metadata": {},
     "output_type": "execute_result"
    }
   ],
   "source": [
    "type(s)"
   ]
  },
  {
   "cell_type": "code",
   "execution_count": 31,
   "id": "b4defa48-0145-4edc-a1a8-1c257c306c2f",
   "metadata": {},
   "outputs": [
    {
     "data": {
      "text/plain": [
       "numpy.ndarray"
      ]
     },
     "execution_count": 31,
     "metadata": {},
     "output_type": "execute_result"
    }
   ],
   "source": [
    "type(v)"
   ]
  },
  {
   "cell_type": "code",
   "execution_count": 33,
   "id": "4b4904a5-b1d2-4199-8ec6-385ab92bc819",
   "metadata": {},
   "outputs": [
    {
     "data": {
      "text/plain": [
       "numpy.ndarray"
      ]
     },
     "execution_count": 33,
     "metadata": {},
     "output_type": "execute_result"
    }
   ],
   "source": [
    "type(m)"
   ]
  },
  {
   "cell_type": "markdown",
   "id": "49d8f51f-8db1-44bd-8e16-1c06fb5b8c7a",
   "metadata": {},
   "source": [
    "ndarray = n-dimensional array v  = 1-dimensional array, m = 2-dimensional array"
   ]
  },
  {
   "cell_type": "code",
   "execution_count": 39,
   "id": "c4eed93a-f7ed-45b6-b2cf-163192465844",
   "metadata": {},
   "outputs": [
    {
     "data": {
      "text/plain": [
       "array(5)"
      ]
     },
     "execution_count": 39,
     "metadata": {},
     "output_type": "execute_result"
    }
   ],
   "source": [
    "s_array = np.array(s)\n",
    "s_array"
   ]
  },
  {
   "cell_type": "code",
   "execution_count": 41,
   "id": "7e6df2d3-5c2f-433e-8783-e3dc5381734c",
   "metadata": {},
   "outputs": [
    {
     "data": {
      "text/plain": [
       "numpy.ndarray"
      ]
     },
     "execution_count": 41,
     "metadata": {},
     "output_type": "execute_result"
    }
   ],
   "source": [
    "type(s_array)"
   ]
  },
  {
   "cell_type": "markdown",
   "id": "90f7aa3a-269f-4204-8c4b-b2c416338cfa",
   "metadata": {},
   "source": [
    "Data shapes"
   ]
  },
  {
   "cell_type": "code",
   "execution_count": 44,
   "id": "52ebe5d8-52ad-41f8-bab8-3267e2095672",
   "metadata": {},
   "outputs": [],
   "source": [
    "#shape returns the shape dimensions of a variable"
   ]
  },
  {
   "cell_type": "code",
   "execution_count": 46,
   "id": "164d9233-e848-4b40-a25a-21bdb2ad45d2",
   "metadata": {},
   "outputs": [
    {
     "data": {
      "text/plain": [
       "(2, 3)"
      ]
     },
     "execution_count": 46,
     "metadata": {},
     "output_type": "execute_result"
    }
   ],
   "source": [
    "m.shape"
   ]
  },
  {
   "cell_type": "code",
   "execution_count": 48,
   "id": "7f082ccb-7b44-4cd4-b6da-20705e3c3fa9",
   "metadata": {},
   "outputs": [
    {
     "data": {
      "text/plain": [
       "(3,)"
      ]
     },
     "execution_count": 48,
     "metadata": {},
     "output_type": "execute_result"
    }
   ],
   "source": [
    "v.shape"
   ]
  },
  {
   "cell_type": "markdown",
   "id": "b4515311-089e-4f23-b5ce-5f3282087928",
   "metadata": {},
   "source": [
    "reshape to give an array a new shape without changing its data"
   ]
  },
  {
   "cell_type": "code",
   "execution_count": 51,
   "id": "0091ac8c-f842-4aca-b75d-2500450fec08",
   "metadata": {},
   "outputs": [
    {
     "data": {
      "text/plain": [
       "array([[ 5, -2,  4]])"
      ]
     },
     "execution_count": 51,
     "metadata": {},
     "output_type": "execute_result"
    }
   ],
   "source": [
    "v.reshape(1,3)"
   ]
  },
  {
   "cell_type": "code",
   "execution_count": 53,
   "id": "6fa49df6-3fd6-466b-8714-554fffd71f91",
   "metadata": {},
   "outputs": [
    {
     "data": {
      "text/plain": [
       "array([[ 5],\n",
       "       [-2],\n",
       "       [ 4]])"
      ]
     },
     "execution_count": 53,
     "metadata": {},
     "output_type": "execute_result"
    }
   ],
   "source": [
    "v.reshape(3,1)"
   ]
  },
  {
   "cell_type": "code",
   "execution_count": 55,
   "id": "c0ce3334-6942-4da7-a52f-5329c2592819",
   "metadata": {},
   "outputs": [
    {
     "ename": "AttributeError",
     "evalue": "'int' object has no attribute 'shape'",
     "output_type": "error",
     "traceback": [
      "\u001b[1;31m---------------------------------------------------------------------------\u001b[0m",
      "\u001b[1;31mAttributeError\u001b[0m                            Traceback (most recent call last)",
      "Cell \u001b[1;32mIn[55], line 1\u001b[0m\n\u001b[1;32m----> 1\u001b[0m s\u001b[38;5;241m.\u001b[39mshape\n",
      "\u001b[1;31mAttributeError\u001b[0m: 'int' object has no attribute 'shape'"
     ]
    }
   ],
   "source": [
    "s.shape"
   ]
  },
  {
   "cell_type": "code",
   "execution_count": 57,
   "id": "fbf4592d-1344-438d-913e-4d4a04ee6247",
   "metadata": {},
   "outputs": [
    {
     "data": {
      "text/plain": [
       "()"
      ]
     },
     "execution_count": 57,
     "metadata": {},
     "output_type": "execute_result"
    }
   ],
   "source": [
    "s_array.shape"
   ]
  },
  {
   "cell_type": "code",
   "execution_count": null,
   "id": "a34bd8d8-0840-4058-9635-a38dfac2cb87",
   "metadata": {},
   "outputs": [],
   "source": []
  }
 ],
 "metadata": {
  "kernelspec": {
   "display_name": "Python 3 (ipykernel)",
   "language": "python",
   "name": "python3"
  },
  "language_info": {
   "codemirror_mode": {
    "name": "ipython",
    "version": 3
   },
   "file_extension": ".py",
   "mimetype": "text/x-python",
   "name": "python",
   "nbconvert_exporter": "python",
   "pygments_lexer": "ipython3",
   "version": "3.12.7"
  }
 },
 "nbformat": 4,
 "nbformat_minor": 5
}

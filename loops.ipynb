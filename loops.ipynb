{
 "cells": [
  {
   "cell_type": "code",
   "execution_count": 1,
   "id": "b51cbe00-2c75-47e5-b186-4646f18785b7",
   "metadata": {},
   "outputs": [],
   "source": [
    "#Iteration for loops"
   ]
  },
  {
   "cell_type": "code",
   "execution_count": 3,
   "id": "0d3101e4-7882-40a4-9c8e-eadc159452ab",
   "metadata": {},
   "outputs": [],
   "source": [
    "even = [0,2,4,6,8,10,12,14,16,18,20]"
   ]
  },
  {
   "cell_type": "code",
   "execution_count": 13,
   "id": "ae77c223-740e-4854-b1e1-8b648dcb8be6",
   "metadata": {},
   "outputs": [],
   "source": [
    "#for n in even: means for every element n in the list even:\n",
    "#n is the loop variable it's not a must for it to be n\n",
    "#print(n) acts as the body of the loop it should be indented to run the loop properly\n",
    "#The operation in the loops body is performed once for each element in the even list"
   ]
  },
  {
   "cell_type": "code",
   "execution_count": 15,
   "id": "b0d5a60b-d19a-4632-9c10-c2f7347f44ee",
   "metadata": {},
   "outputs": [],
   "source": [
    "#if you wish to see the elements in a single line then print (n, end = \" \")\n",
    "# for normal print  (n)"
   ]
  },
  {
   "cell_type": "code",
   "execution_count": 11,
   "id": "2c4a69a8-1681-4ed6-bc1e-85641bdf73f5",
   "metadata": {},
   "outputs": [
    {
     "name": "stdout",
     "output_type": "stream",
     "text": [
      "0 2 4 6 8 10 12 14 16 18 20 "
     ]
    }
   ],
   "source": [
    "for n in even:\n",
    "    print (n, end = \" \")"
   ]
  },
  {
   "cell_type": "raw",
   "id": "bbbac7b9-e4ac-4dd4-b115-72949e2c70ad",
   "metadata": {},
   "source": []
  },
  {
   "cell_type": "code",
   "execution_count": 9,
   "id": "018da5da-2613-4fab-9113-9d2e6c7e121d",
   "metadata": {},
   "outputs": [
    {
     "name": "stdout",
     "output_type": "stream",
     "text": [
      "20 "
     ]
    }
   ],
   "source": [
    "print (n, end =\" \")"
   ]
  },
  {
   "cell_type": "code",
   "execution_count": 17,
   "id": "6bf469d3-fadf-4dbf-89b0-b6bbc8daa2fd",
   "metadata": {},
   "outputs": [
    {
     "name": "stdout",
     "output_type": "stream",
     "text": [
      "0 1 2 3 4 5 6 7 8 9 "
     ]
    }
   ],
   "source": [
    "digits = [0,1,2,3,4,5,6,7,8,9]\n",
    "for d in digits:\n",
    "    print (d, end = \" \")"
   ]
  },
  {
   "cell_type": "code",
   "execution_count": 23,
   "id": "9ada190b-e0e5-424d-92c0-c3621e02d703",
   "metadata": {},
   "outputs": [],
   "source": [
    "#while loops and incrementing\n",
    "#one has to be very careful to prevent the computer from running an infinite loop and thus crashing\n",
    "#in this case we have to bind x to x + 2"
   ]
  },
  {
   "cell_type": "code",
   "execution_count": null,
   "id": "9975fe9b-33b2-44d4-b838-02123889a142",
   "metadata": {},
   "outputs": [],
   "source": [
    "# Adding the same number on top of an existing variable  during the loop is called incrementing\n",
    "#The amount being added is called an increment in this case 2\n",
    "# x += 2 are keys that can indicate incrementing"
   ]
  },
  {
   "cell_type": "code",
   "execution_count": 25,
   "id": "b7e7a074-961d-4262-b275-85157874486f",
   "metadata": {},
   "outputs": [
    {
     "name": "stdout",
     "output_type": "stream",
     "text": [
      "0 2 4 6 8 10 12 14 16 18 20 "
     ]
    }
   ],
   "source": [
    "x = 0\n",
    "while x <=20:\n",
    "    print (x, end = \" \")\n",
    "    x = x + 2"
   ]
  },
  {
   "cell_type": "code",
   "execution_count": null,
   "id": "ffebbd74-8c48-4587-a576-01b0a93c90f2",
   "metadata": {},
   "outputs": [],
   "source": [
    "# Create a while loop that will print all odd numbers from 0 to 30 on the same row.?? \n",
    "#was unable to"
   ]
  },
  {
   "cell_type": "code",
   "execution_count": null,
   "id": "3afc48de-6bf2-4acc-81fa-acfb2e674db0",
   "metadata": {},
   "outputs": [],
   "source": [
    "x = 0\n",
    "while x % 2 != 0:\n",
    "        print (x, end = \" \")\n",
    "        x <= 30"
   ]
  },
  {
   "cell_type": "code",
   "execution_count": null,
   "id": "d399e14f-fed4-4a8b-bfd5-76f5a2c5ad65",
   "metadata": {},
   "outputs": [],
   "source": [
    "#create lists with the range function"
   ]
  },
  {
   "cell_type": "code",
   "execution_count": null,
   "id": "bd4b318e-eeba-4c3b-8e57-dd2db42afbf8",
   "metadata": {},
   "outputs": [],
   "source": [
    "#Later on in the course we will be able to randomize datapoints and that is when we will use pythons range function\n",
    "#We can therefore create a python range object\n",
    "#range ( start, stop, step) \n",
    "#This function creates a range of objects\n",
    "#start = the first number in the list\n",
    "#stop = the last value + 1\n",
    "#step = the distance between each 2 consecutive values\n",
    "#The stop value is a must but the start and step value are optional if not provided the start value is 0 and the step value is 1\n"
   ]
  },
  {
   "cell_type": "code",
   "execution_count": null,
   "id": "3d1b4616-efcb-4383-90b4-e9776d609331",
   "metadata": {},
   "outputs": [],
   "source": [
    "range(10)"
   ]
  },
  {
   "cell_type": "code",
   "execution_count": null,
   "id": "ff34e227-e5d0-407a-90a7-90d28380511f",
   "metadata": {
    "scrolled": true
   },
   "outputs": [],
   "source": [
    "list(range(10))"
   ]
  },
  {
   "cell_type": "code",
   "execution_count": null,
   "id": "39f9cf20-14d0-448d-8763-08b9c46c66e9",
   "metadata": {},
   "outputs": [],
   "source": [
    "def list 10\n",
    "list"
   ]
  },
  {
   "cell_type": "code",
   "execution_count": null,
   "id": "e00b9a0e-23a2-4fb6-aa81-8cc49e85bf8d",
   "metadata": {},
   "outputs": [],
   "source": []
  }
 ],
 "metadata": {
  "kernelspec": {
   "display_name": "Python 3 (ipykernel)",
   "language": "python",
   "name": "python3"
  },
  "language_info": {
   "codemirror_mode": {
    "name": "ipython",
    "version": 3
   },
   "file_extension": ".py",
   "mimetype": "text/x-python",
   "name": "python",
   "nbconvert_exporter": "python",
   "pygments_lexer": "ipython3",
   "version": "3.12.7"
  }
 },
 "nbformat": 4,
 "nbformat_minor": 5
}

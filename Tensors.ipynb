{
 "cells": [
  {
   "cell_type": "markdown",
   "id": "e78c8041-2594-495e-a08d-a8c4b0ea7625",
   "metadata": {},
   "source": [
    "Tensors can be stored in ndarrays, and thats how we often deal with the issue"
   ]
  },
  {
   "cell_type": "markdown",
   "id": "9430fb5c-ad58-4cb7-822a-b1ba9b093cd4",
   "metadata": {},
   "source": [
    "Import the relevant libraries"
   ]
  },
  {
   "cell_type": "code",
   "execution_count": 5,
   "id": "d96a8d0f-4c7c-47e1-b2c2-3ecd1b9bb673",
   "metadata": {},
   "outputs": [],
   "source": [
    "import numpy as np"
   ]
  },
  {
   "cell_type": "markdown",
   "id": "7532487a-a847-48d7-8cca-8c4f6d0e993d",
   "metadata": {},
   "source": [
    "Creating a tensor"
   ]
  },
  {
   "cell_type": "code",
   "execution_count": null,
   "id": "8a95af21-ecb3-4b03-ba42-a378d13345fd",
   "metadata": {},
   "outputs": [],
   "source": []
  },
  {
   "cell_type": "code",
   "execution_count": 7,
   "id": "4db359c7-6ea5-4fb3-ba9b-f8730823885c",
   "metadata": {},
   "outputs": [
    {
     "data": {
      "text/plain": [
       "array([[ 5, 12,  6],\n",
       "       [-3,  0, 14]])"
      ]
     },
     "execution_count": 7,
     "metadata": {},
     "output_type": "execute_result"
    }
   ],
   "source": [
    "m1 = np.array([[5,12,6],[-3,0,14]])\n",
    "m1"
   ]
  },
  {
   "cell_type": "code",
   "execution_count": 13,
   "id": "c992dce6-a224-49ff-b589-84ecd79fdc90",
   "metadata": {},
   "outputs": [
    {
     "data": {
      "text/plain": [
       "[[9, 8, 7], [1, 3, -5]]"
      ]
     },
     "execution_count": 13,
     "metadata": {},
     "output_type": "execute_result"
    }
   ],
   "source": [
    "m2 = ([[9,8,7],[1,3,-5]])\n",
    "m2"
   ]
  },
  {
   "cell_type": "markdown",
   "id": "6ebef13a-aaf0-40f0-9d19-955fead6d5a2",
   "metadata": {},
   "source": [
    "Addition"
   ]
  },
  {
   "cell_type": "code",
   "execution_count": 15,
   "id": "9bb0c005-cc3b-4b63-ba45-537a7d652f73",
   "metadata": {},
   "outputs": [
    {
     "data": {
      "text/plain": [
       "array([[14, 20, 13],\n",
       "       [-2,  3,  9]])"
      ]
     },
     "execution_count": 15,
     "metadata": {},
     "output_type": "execute_result"
    }
   ],
   "source": [
    "m1 + m2"
   ]
  },
  {
   "cell_type": "markdown",
   "id": "0b5ee647-fbd9-436b-81f6-f003f5cf59b5",
   "metadata": {},
   "source": [
    "Subtraction"
   ]
  },
  {
   "cell_type": "code",
   "execution_count": 19,
   "id": "119fd62a-956e-4e24-bc5e-806edbcc01ef",
   "metadata": {},
   "outputs": [
    {
     "data": {
      "text/plain": [
       "array([[-4,  4, -1],\n",
       "       [-4, -3, 19]])"
      ]
     },
     "execution_count": 19,
     "metadata": {},
     "output_type": "execute_result"
    }
   ],
   "source": [
    "m1 - m2"
   ]
  },
  {
   "cell_type": "code",
   "execution_count": 17,
   "id": "a53b9946-77b3-4946-a47b-1c9395a11025",
   "metadata": {},
   "outputs": [
    {
     "data": {
      "text/plain": [
       "array([[[ 5, 12,  6],\n",
       "        [-3,  0, 14]],\n",
       "\n",
       "       [[ 9,  8,  7],\n",
       "        [ 1,  3, -5]]])"
      ]
     },
     "execution_count": 17,
     "metadata": {},
     "output_type": "execute_result"
    }
   ],
   "source": [
    "t = np.array([m1,m2])\n",
    "t"
   ]
  },
  {
   "cell_type": "markdown",
   "id": "cbab7a9e-f38a-475e-9ed7-b0822fd0070a",
   "metadata": {},
   "source": [
    "Checking its shape"
   ]
  },
  {
   "cell_type": "code",
   "execution_count": 17,
   "id": "4497bb72-0b52-45e4-a5c3-e9b1e2eb9827",
   "metadata": {},
   "outputs": [
    {
     "data": {
      "text/plain": [
       "(2, 2, 3)"
      ]
     },
     "execution_count": 17,
     "metadata": {},
     "output_type": "execute_result"
    }
   ],
   "source": [
    "t.shape"
   ]
  },
  {
   "cell_type": "markdown",
   "id": "584b5308-c586-44fc-b73f-0b0176cddee4",
   "metadata": {},
   "source": [
    "Manually creating a tensor"
   ]
  },
  {
   "cell_type": "code",
   "execution_count": 20,
   "id": "545ef360-34dd-44e2-b3da-240ba175e175",
   "metadata": {},
   "outputs": [
    {
     "data": {
      "text/plain": [
       "array([[[ 5, 12,  6],\n",
       "        [-3,  0, 14]],\n",
       "\n",
       "       [[ 9,  8,  7],\n",
       "        [ 1,  3, -5]]])"
      ]
     },
     "execution_count": 20,
     "metadata": {},
     "output_type": "execute_result"
    }
   ],
   "source": [
    "t_manual = np.array([[[5,12,6], [-3,0,14]],[[9,8,7],[1,3,-5]]])\n",
    "t_manual"
   ]
  },
  {
   "cell_type": "markdown",
   "id": "29ed9cae-7b01-4cfd-a2f4-8beed4226de2",
   "metadata": {},
   "source": [
    "Adding vectors together"
   ]
  },
  {
   "cell_type": "code",
   "execution_count": 26,
   "id": "8b62d762-9d2d-49bd-b12f-82356c8ff649",
   "metadata": {},
   "outputs": [],
   "source": [
    "v1 = np.array([1,2,3,4,5])\n",
    "v2 = np.array([5,4,3,2,1])"
   ]
  },
  {
   "cell_type": "code",
   "execution_count": 28,
   "id": "b0b37753-270d-43c0-bda3-2f1f82abb098",
   "metadata": {},
   "outputs": [
    {
     "data": {
      "text/plain": [
       "array([6, 6, 6, 6, 6])"
      ]
     },
     "execution_count": 28,
     "metadata": {},
     "output_type": "execute_result"
    }
   ],
   "source": [
    "v1 + v2"
   ]
  },
  {
   "cell_type": "markdown",
   "id": "214065cb-c45f-4453-91fc-2dc90e9990ed",
   "metadata": {},
   "source": [
    "Difference"
   ]
  },
  {
   "cell_type": "code",
   "execution_count": 31,
   "id": "5f61e158-dea3-4968-8804-01df2d458a6f",
   "metadata": {},
   "outputs": [
    {
     "data": {
      "text/plain": [
       "array([-4, -2,  0,  2,  4])"
      ]
     },
     "execution_count": 31,
     "metadata": {},
     "output_type": "execute_result"
    }
   ],
   "source": [
    "v1 - v2"
   ]
  },
  {
   "cell_type": "code",
   "execution_count": null,
   "id": "5263c000-6fd4-4389-924c-c82db98e54bb",
   "metadata": {},
   "outputs": [],
   "source": []
  }
 ],
 "metadata": {
  "kernelspec": {
   "display_name": "Python 3 (ipykernel)",
   "language": "python",
   "name": "python3"
  },
  "language_info": {
   "codemirror_mode": {
    "name": "ipython",
    "version": 3
   },
   "file_extension": ".py",
   "mimetype": "text/x-python",
   "name": "python",
   "nbconvert_exporter": "python",
   "pygments_lexer": "ipython3",
   "version": "3.12.7"
  }
 },
 "nbformat": 4,
 "nbformat_minor": 5
}

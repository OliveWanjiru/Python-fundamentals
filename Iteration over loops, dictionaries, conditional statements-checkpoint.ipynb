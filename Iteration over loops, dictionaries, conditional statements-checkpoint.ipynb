{
 "cells": [
  {
   "cell_type": "code",
   "execution_count": 3,
   "id": "2cb1ed48-e4fd-40f5-80db-7c09b8d95bed",
   "metadata": {},
   "outputs": [],
   "source": [
    "nums = [1,35,12,24,31,51,70,100]\n",
    "def count(nums):\n",
    "    total = 0\n",
    "    x = 0\n",
    "    while x < len(nums):\n",
    "     if nums[x] < 20:\n",
    "         total += 1\n",
    "     x += 1\n",
    "    return total"
   ]
  },
  {
   "cell_type": "code",
   "execution_count": 5,
   "id": "a5388369-65d5-4063-bc78-6b2632643456",
   "metadata": {},
   "outputs": [
    {
     "name": "stdout",
     "output_type": "stream",
     "text": [
      "2\n"
     ]
    }
   ],
   "source": [
    "print(count(nums))"
   ]
  },
  {
   "cell_type": "code",
   "execution_count": 7,
   "id": "33d0f93c-36c7-4cf9-b8c7-d8fb3d2184ac",
   "metadata": {},
   "outputs": [],
   "source": [
    "#iterating over a dictionary\n",
    "#How much did Jan spend in the supermarket? price*quantity we need a loop so that the process of multiplying the price and quantity of each item can be repeated\n",
    "#create a rolling sum called money_spent = 0"
   ]
  },
  {
   "cell_type": "code",
   "execution_count": 3,
   "id": "8c3ce970-8262-480e-84bc-ff70dc7774be",
   "metadata": {},
   "outputs": [
    {
     "name": "stdout",
     "output_type": "stream",
     "text": [
      "74\n"
     ]
    }
   ],
   "source": [
    "prices = {\n",
    "    \"box_of_spaghetti\" : 4,\n",
    "    \"lasagna\"  : 5,\n",
    "    \"hamburger\" : 2\n",
    "   }\n",
    "quantity = {\n",
    "    \"box_of_spaghetti\" : 6,\n",
    "    \"lasagna\"  : 10,\n",
    "    \"hamburger\" : 0\n",
    "    }\n",
    "\n",
    "money_spent = 0 \n",
    "for i in prices: \n",
    "    money_spent = money_spent + (prices[i] * quantity[i])\n",
    "\n",
    "print (money_spent)"
   ]
  },
  {
   "cell_type": "code",
   "execution_count": null,
   "id": "e83a1efd-ae58-4994-a6b2-7ae2db0aa4fd",
   "metadata": {},
   "outputs": [],
   "source": [
    "#In this exercise you will use the same dictionaries as the ones we used in the lesson - prices and quantity. This time, don't just calculate all the money Jan spent. Calculate how much she spent on products with a price of 5 dollars or more."
   ]
  },
  {
   "cell_type": "code",
   "execution_count": 1,
   "id": "4fe1c9be-a70b-4e63-888a-fc22d0d6f470",
   "metadata": {},
   "outputs": [
    {
     "name": "stdout",
     "output_type": "stream",
     "text": [
      "50\n"
     ]
    }
   ],
   "source": [
    "prices = {\n",
    "    \"box_of_spaghetti\" : 4,\n",
    "    \"lasagna\"  : 5,\n",
    "    \"hamburger\" : 2\n",
    "   }\n",
    "quantity = {\n",
    "    \"box_of_spaghetti\" : 6,\n",
    "    \"lasagna\"  : 10,\n",
    "    \"hamburger\" : 0\n",
    "    }\n",
    "\n",
    "money_spent = 0 \n",
    "for item, prices in prices.items():\n",
    "    if prices >= 5:\n",
    "        money_spent += prices * quantity[item]\n",
    "print(money_spent)"
   ]
  },
  {
   "cell_type": "code",
   "execution_count": 7,
   "id": "4ca288ca-bcc1-46ae-817b-50a51d40c662",
   "metadata": {},
   "outputs": [],
   "source": [
    "#How much did Jan spent on products that cost less than 5 dollars?"
   ]
  },
  {
   "cell_type": "code",
   "execution_count": 11,
   "id": "f21c21b9-3fd3-4bde-9622-004adc13e476",
   "metadata": {},
   "outputs": [
    {
     "name": "stdout",
     "output_type": "stream",
     "text": [
      "24\n"
     ]
    }
   ],
   "source": [
    "prices = {\n",
    "    \"box_of_spaghetti\" : 4,\n",
    "    \"lasagna\"  : 5,\n",
    "    \"hamburger\" : 2\n",
    "   }\n",
    "quantity = {\n",
    "    \"box_of_spaghetti\" : 6,\n",
    "    \"lasagna\"  : 10,\n",
    "    \"hamburger\" : 0\n",
    "    }\n",
    "\n",
    "money_spent = 0\n",
    "for item, prices in prices.items():\n",
    "    if prices < 5:\n",
    "        money_spent += prices * quantity[item]\n",
    "print(money_spent)\n"
   ]
  },
  {
   "cell_type": "code",
   "execution_count": null,
   "id": "5c66bcc5-3231-4d26-8dfe-5d7bda2d05a7",
   "metadata": {},
   "outputs": [],
   "source": []
  }
 ],
 "metadata": {
  "kernelspec": {
   "display_name": "Python 3 (ipykernel)",
   "language": "python",
   "name": "python3"
  },
  "language_info": {
   "codemirror_mode": {
    "name": "ipython",
    "version": 3
   },
   "file_extension": ".py",
   "mimetype": "text/x-python",
   "name": "python",
   "nbconvert_exporter": "python",
   "pygments_lexer": "ipython3",
   "version": "3.12.7"
  }
 },
 "nbformat": 4,
 "nbformat_minor": 5
}

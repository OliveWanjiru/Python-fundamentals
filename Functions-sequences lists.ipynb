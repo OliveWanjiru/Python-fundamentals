{
 "cells": [
  {
   "cell_type": "code",
   "execution_count": 3,
   "id": "4d66f5e7-3789-487a-9ce5-b2273e6d17c0",
   "metadata": {},
   "outputs": [],
   "source": [
    "#Johnny's mom told him if he managed to save atleast $100 by the end of the week she would give him an extra $10 dollars\\\n",
    "#If not she would prefer not to give him the extra dollars."
   ]
  },
  {
   "cell_type": "code",
   "execution_count": 5,
   "id": "1c86f54c-54ce-4c8d-9ca4-41acbcee340f",
   "metadata": {},
   "outputs": [],
   "source": [
    "def add_10(m):\n",
    "    if m >= 100:\n",
    "        m = m + 10\n",
    "        return m\n",
    "    else:\n",
    "        return \"save more\""
   ]
  },
  {
   "cell_type": "code",
   "execution_count": 7,
   "id": "f657816e-4b16-4729-94bf-2756031cad12",
   "metadata": {},
   "outputs": [
    {
     "data": {
      "text/plain": [
       "120"
      ]
     },
     "execution_count": 7,
     "metadata": {},
     "output_type": "execute_result"
    }
   ],
   "source": [
    "add_10(110)"
   ]
  },
  {
   "cell_type": "code",
   "execution_count": 9,
   "id": "8424aad6-91d0-4975-8ca7-8f6a5bf17e82",
   "metadata": {},
   "outputs": [
    {
     "data": {
      "text/plain": [
       "'save more'"
      ]
     },
     "execution_count": 9,
     "metadata": {},
     "output_type": "execute_result"
    }
   ],
   "source": [
    "add_10(50)"
   ]
  },
  {
   "cell_type": "code",
   "execution_count": 11,
   "id": "9bf8f31e-a908-4689-ae3a-88369797c886",
   "metadata": {},
   "outputs": [],
   "source": [
    "def compare_the_two(a,b):\n",
    "    if a > b:\n",
    "        return \"Greater\"\n",
    "    elif b > a:\n",
    "        return \"Less\"\n",
    "    else:\n",
    "        return \"Equal\"\n",
    "        "
   ]
  },
  {
   "cell_type": "code",
   "execution_count": 13,
   "id": "7d09679a-a131-4b99-9e2e-4f38c485745e",
   "metadata": {},
   "outputs": [],
   "source": [
    "#creating functions that contain a few arguments"
   ]
  },
  {
   "cell_type": "code",
   "execution_count": 15,
   "id": "331f5002-9d64-4991-ad60-7f4f5f695df9",
   "metadata": {},
   "outputs": [],
   "source": [
    "def subtract_bc(a,b,c):\n",
    "    result = a - b*c\n",
    "    print ('parameter a equals', a)\n",
    "    print ('parameter b equals', b)\n",
    "    print ('parameter c equals', c)\n",
    "    return result\n",
    "\n",
    "    "
   ]
  },
  {
   "cell_type": "code",
   "execution_count": 17,
   "id": "a64329e4-08eb-4b54-92a4-f86fb60fe228",
   "metadata": {},
   "outputs": [
    {
     "name": "stdout",
     "output_type": "stream",
     "text": [
      "parameter a equals 10\n",
      "parameter b equals 3\n",
      "parameter c equals 2\n"
     ]
    },
    {
     "data": {
      "text/plain": [
       "4"
      ]
     },
     "execution_count": 17,
     "metadata": {},
     "output_type": "execute_result"
    }
   ],
   "source": [
    "subtract_bc(10,3,2)"
   ]
  },
  {
   "cell_type": "code",
   "execution_count": 19,
   "id": "c795a84a-94e2-4add-ae58-7f90151d840b",
   "metadata": {},
   "outputs": [],
   "source": [
    "#notable built-in functions in Python"
   ]
  },
  {
   "cell_type": "code",
   "execution_count": 21,
   "id": "34c7d45c-cf96-45fa-b6eb-030c6e47a803",
   "metadata": {},
   "outputs": [
    {
     "data": {
      "text/plain": [
       "int"
      ]
     },
     "execution_count": 21,
     "metadata": {},
     "output_type": "execute_result"
    }
   ],
   "source": [
    "type(10)"
   ]
  },
  {
   "cell_type": "code",
   "execution_count": 23,
   "id": "ad4c85b8-a962-42e0-bce4-86e3b0108c4f",
   "metadata": {},
   "outputs": [],
   "source": [
    "#type() obtains the type of variable you use in an argument."
   ]
  },
  {
   "cell_type": "code",
   "execution_count": 25,
   "id": "c9f9437a-bf0b-4db5-b9bc-d1b68e533666",
   "metadata": {},
   "outputs": [],
   "source": [
    "# int(), float(), str() transform their arguments in an interger, float and string data trpe, respectively"
   ]
  },
  {
   "cell_type": "code",
   "execution_count": 27,
   "id": "4bcc895f-b3d1-4064-be2e-c55d95d6fcd1",
   "metadata": {},
   "outputs": [
    {
     "data": {
      "text/plain": [
       "5"
      ]
     },
     "execution_count": 27,
     "metadata": {},
     "output_type": "execute_result"
    }
   ],
   "source": [
    "int(5.7)"
   ]
  },
  {
   "cell_type": "code",
   "execution_count": 29,
   "id": "d9acf173-2691-4b6e-95c0-fb4e4fd27469",
   "metadata": {},
   "outputs": [
    {
     "data": {
      "text/plain": [
       "3.0"
      ]
     },
     "execution_count": 29,
     "metadata": {},
     "output_type": "execute_result"
    }
   ],
   "source": [
    "float(3)"
   ]
  },
  {
   "cell_type": "code",
   "execution_count": 31,
   "id": "343b8af1-e8d7-4913-8510-52925ca1ef43",
   "metadata": {},
   "outputs": [
    {
     "data": {
      "text/plain": [
       "'500'"
      ]
     },
     "execution_count": 31,
     "metadata": {},
     "output_type": "execute_result"
    }
   ],
   "source": [
    "str (500)"
   ]
  },
  {
   "cell_type": "code",
   "execution_count": 33,
   "id": "f22b13f4-6f14-4636-94c2-aa66145ccf57",
   "metadata": {},
   "outputs": [],
   "source": [
    "#max() returns the highest value from a sequence of numbers"
   ]
  },
  {
   "cell_type": "code",
   "execution_count": 35,
   "id": "3eae3417-ecb7-4c2b-b106-d02483cd3632",
   "metadata": {},
   "outputs": [
    {
     "data": {
      "text/plain": [
       "30"
      ]
     },
     "execution_count": 35,
     "metadata": {},
     "output_type": "execute_result"
    }
   ],
   "source": [
    "max(10,20,30)"
   ]
  },
  {
   "cell_type": "code",
   "execution_count": 37,
   "id": "3a46201f-21c4-4c2e-a767-acb365a9579b",
   "metadata": {},
   "outputs": [],
   "source": [
    "#min() returns the lowest value from a sequence of numbers"
   ]
  },
  {
   "cell_type": "code",
   "execution_count": 39,
   "id": "533f00ae-e7cc-422d-a2b3-5cbd96706502",
   "metadata": {},
   "outputs": [
    {
     "data": {
      "text/plain": [
       "10"
      ]
     },
     "execution_count": 39,
     "metadata": {},
     "output_type": "execute_result"
    }
   ],
   "source": [
    "min(10,20,30)"
   ]
  },
  {
   "cell_type": "code",
   "execution_count": 41,
   "id": "c4b19190-0a93-407c-9e4b-cf3d7535d6ed",
   "metadata": {},
   "outputs": [],
   "source": [
    "#abs()allows you to obtain the absolute value of its argument"
   ]
  },
  {
   "cell_type": "code",
   "execution_count": 43,
   "id": "69013975-d2dc-471d-ab63-38c18397b68b",
   "metadata": {},
   "outputs": [
    {
     "data": {
      "text/plain": [
       "20"
      ]
     },
     "execution_count": 43,
     "metadata": {},
     "output_type": "execute_result"
    }
   ],
   "source": [
    "z = -20\n",
    "abs(z)"
   ]
  },
  {
   "cell_type": "code",
   "execution_count": 50,
   "id": "ab06c67a-7e74-4ad3-9c35-f2b2f5826ff5",
   "metadata": {},
   "outputs": [
    {
     "data": {
      "text/plain": [
       "10"
      ]
     },
     "execution_count": 50,
     "metadata": {},
     "output_type": "execute_result"
    }
   ],
   "source": [
    "list_1= [1,2,3,4]\n",
    "sum(list_1)"
   ]
  },
  {
   "cell_type": "code",
   "execution_count": 52,
   "id": "5de1334a-3cdf-41d0-bfbf-3463da5692f3",
   "metadata": {},
   "outputs": [],
   "source": [
    "#round(x,y) returns the float of its argument (x), rounded to a specified number of digits (y) after the decimal point."
   ]
  },
  {
   "cell_type": "code",
   "execution_count": 54,
   "id": "bcf7a3e6-8350-44b9-b4a0-f5454e105a03",
   "metadata": {},
   "outputs": [
    {
     "data": {
      "text/plain": [
       "3.56"
      ]
     },
     "execution_count": 54,
     "metadata": {},
     "output_type": "execute_result"
    }
   ],
   "source": [
    "round(3.555,2)"
   ]
  },
  {
   "cell_type": "code",
   "execution_count": 56,
   "id": "1ea49866-fa04-4dd6-bf2e-cf583f1fc96d",
   "metadata": {},
   "outputs": [
    {
     "data": {
      "text/plain": [
       "3"
      ]
     },
     "execution_count": 56,
     "metadata": {},
     "output_type": "execute_result"
    }
   ],
   "source": [
    "round(3.2)"
   ]
  },
  {
   "cell_type": "code",
   "execution_count": 58,
   "id": "c9fde95a-7e07-4eab-8b57-e6ec9e1a658e",
   "metadata": {},
   "outputs": [],
   "source": [
    "#if the number of digits is not indicated it defaults to zero."
   ]
  },
  {
   "cell_type": "code",
   "execution_count": 60,
   "id": "6a7275f0-0ede-4bd4-9969-f1fa15301cd7",
   "metadata": {},
   "outputs": [
    {
     "data": {
      "text/plain": [
       "1024"
      ]
     },
     "execution_count": 60,
     "metadata": {},
     "output_type": "execute_result"
    }
   ],
   "source": [
    "2 ** 10"
   ]
  },
  {
   "cell_type": "code",
   "execution_count": 62,
   "id": "7876a951-0948-44b4-8e4f-b388d89a8c5c",
   "metadata": {},
   "outputs": [
    {
     "data": {
      "text/plain": [
       "1024"
      ]
     },
     "execution_count": 62,
     "metadata": {},
     "output_type": "execute_result"
    }
   ],
   "source": [
    "pow(2,10)"
   ]
  },
  {
   "cell_type": "code",
   "execution_count": 64,
   "id": "2a908242-b796-4762-b5ef-4015ce19b6d3",
   "metadata": {},
   "outputs": [
    {
     "data": {
      "text/plain": [
       "11"
      ]
     },
     "execution_count": 64,
     "metadata": {},
     "output_type": "execute_result"
    }
   ],
   "source": [
    "len('Mathematics')"
   ]
  },
  {
   "cell_type": "code",
   "execution_count": 66,
   "id": "1744e135-e384-4de1-9e88-76a9e68a73de",
   "metadata": {},
   "outputs": [
    {
     "data": {
      "text/plain": [
       "890"
      ]
     },
     "execution_count": 66,
     "metadata": {},
     "output_type": "execute_result"
    }
   ],
   "source": [
    "max(25,65,890,15)"
   ]
  },
  {
   "cell_type": "code",
   "execution_count": 68,
   "id": "705672e1-8a79-4204-8a47-1927f4b6fea1",
   "metadata": {},
   "outputs": [
    {
     "data": {
      "text/plain": [
       "15"
      ]
     },
     "execution_count": 68,
     "metadata": {},
     "output_type": "execute_result"
    }
   ],
   "source": [
    "min(25,65,890,15)"
   ]
  },
  {
   "cell_type": "code",
   "execution_count": 70,
   "id": "99dd35e3-a674-4efd-ab09-d90b6315db1a",
   "metadata": {},
   "outputs": [
    {
     "data": {
      "text/plain": [
       "100"
      ]
     },
     "execution_count": 70,
     "metadata": {},
     "output_type": "execute_result"
    }
   ],
   "source": [
    "abs(-100)"
   ]
  },
  {
   "cell_type": "code",
   "execution_count": 72,
   "id": "8025c073-4695-434d-99b2-00bc5973061a",
   "metadata": {},
   "outputs": [
    {
     "data": {
      "text/plain": [
       "56"
      ]
     },
     "execution_count": 72,
     "metadata": {},
     "output_type": "execute_result"
    }
   ],
   "source": [
    "round(55.5)"
   ]
  },
  {
   "cell_type": "markdown",
   "id": "bb62ab46-f509-4a5c-8dd9-7527223fb8ab",
   "metadata": {},
   "source": [
    "round(35.56789,3)"
   ]
  },
  {
   "cell_type": "code",
   "execution_count": 76,
   "id": "264f911f-c62e-45ce-a588-97d7b5c46e93",
   "metadata": {},
   "outputs": [
    {
     "data": {
      "text/plain": [
       "35.568"
      ]
     },
     "execution_count": 76,
     "metadata": {},
     "output_type": "execute_result"
    }
   ],
   "source": [
    "round(35.56789,3)"
   ]
  },
  {
   "cell_type": "code",
   "execution_count": 78,
   "id": "ebc14a1f-6acb-4075-838f-f7e39a94eaf4",
   "metadata": {},
   "outputs": [
    {
     "data": {
      "text/plain": [
       "94.5"
      ]
     },
     "execution_count": 78,
     "metadata": {},
     "output_type": "execute_result"
    }
   ],
   "source": [
    "Numbers= [1,5,64,24.5]\n",
    "sum(Numbers)"
   ]
  },
  {
   "cell_type": "code",
   "execution_count": 80,
   "id": "d421d581-f268-4ca9-9cf4-84fce7ffc022",
   "metadata": {},
   "outputs": [
    {
     "data": {
      "text/plain": [
       "1000"
      ]
     },
     "execution_count": 80,
     "metadata": {},
     "output_type": "execute_result"
    }
   ],
   "source": [
    "pow(10,3)"
   ]
  },
  {
   "cell_type": "code",
   "execution_count": 82,
   "id": "63d77325-4307-43f9-9c0f-0ff7ff5ee6c7",
   "metadata": {},
   "outputs": [
    {
     "data": {
      "text/plain": [
       "8"
      ]
     },
     "execution_count": 82,
     "metadata": {},
     "output_type": "execute_result"
    }
   ],
   "source": [
    "len(\"Elephant\")"
   ]
  },
  {
   "cell_type": "code",
   "execution_count": 88,
   "id": "b458b74e-ea5f-4d25-b2af-05f067f5744b",
   "metadata": {},
   "outputs": [],
   "source": [
    "def distance_from_zero(x):\n",
    "    if type(x) == int or type(x) == float:\n",
    "        return abs(x)\n",
    "    else:\n",
    "        print (\"Not possible\")\n",
    "    \n",
    "    "
   ]
  },
  {
   "cell_type": "code",
   "execution_count": 90,
   "id": "dc8280a3-0880-4b65-9c06-369b0f04c773",
   "metadata": {},
   "outputs": [
    {
     "data": {
      "text/plain": [
       "10"
      ]
     },
     "execution_count": 90,
     "metadata": {},
     "output_type": "execute_result"
    }
   ],
   "source": [
    "distance_from_zero(-10)"
   ]
  },
  {
   "cell_type": "code",
   "execution_count": 92,
   "id": "69088904-1312-4296-b132-40153b10c8db",
   "metadata": {},
   "outputs": [
    {
     "name": "stdout",
     "output_type": "stream",
     "text": [
      "Not possible\n"
     ]
    }
   ],
   "source": [
    "distance_from_zero(\"cat\")"
   ]
  },
  {
   "cell_type": "code",
   "execution_count": 94,
   "id": "8384c85d-505e-43d9-a641-c653386ab3fb",
   "metadata": {},
   "outputs": [],
   "source": [
    "#sequence-lists\n"
   ]
  },
  {
   "cell_type": "code",
   "execution_count": 96,
   "id": "4e7db94a-7d04-4682-8c60-e9f8c4336403",
   "metadata": {},
   "outputs": [
    {
     "data": {
      "text/plain": [
       "['John', 'Leila', 'Gregory', 'Cate']"
      ]
     },
     "execution_count": 96,
     "metadata": {},
     "output_type": "execute_result"
    }
   ],
   "source": [
    "Participants = ['John', 'Leila', 'Gregory', 'Cate']\n",
    "Participants"
   ]
  },
  {
   "cell_type": "code",
   "execution_count": 98,
   "id": "e8f09c2c-1de2-401d-805f-451227e956e8",
   "metadata": {},
   "outputs": [],
   "source": [
    "#To extract a name from the list we use name_of_list [index_of_element}\n",
    "#'John' is index 0\n",
    "#'Leila' is index 1"
   ]
  },
  {
   "cell_type": "code",
   "execution_count": 100,
   "id": "ec9e6256-3a79-4101-9bc5-9b981e6c58d5",
   "metadata": {},
   "outputs": [
    {
     "name": "stdout",
     "output_type": "stream",
     "text": [
      "Leila\n"
     ]
    }
   ],
   "source": [
    "print (Participants[1])"
   ]
  },
  {
   "cell_type": "code",
   "execution_count": 102,
   "id": "fa36bf99-3805-4f7a-a682-7ec7c8678bab",
   "metadata": {},
   "outputs": [],
   "source": [
    "#you have accessed the list by indexing the value 1 = extract the 2nd of the elements in this list variable"
   ]
  },
  {
   "cell_type": "code",
   "execution_count": null,
   "id": "abc6bda3-51f9-40ae-a8e9-00cbebdacd97",
   "metadata": {},
   "outputs": [],
   "source": [
    "#in addition there is a way to get to the last item in the list start counting from the end towards the beginning then put a negative sign before the index but don't fall into the trap of beginning at zero"
   ]
  },
  {
   "cell_type": "code",
   "execution_count": 104,
   "id": "317cd84e-583f-47c1-ac59-5f53aae58283",
   "metadata": {},
   "outputs": [
    {
     "data": {
      "text/plain": [
       "'Cate'"
      ]
     },
     "execution_count": 104,
     "metadata": {},
     "output_type": "execute_result"
    }
   ],
   "source": [
    "Participants[-1]"
   ]
  },
  {
   "cell_type": "code",
   "execution_count": 106,
   "id": "35338be8-3a64-42f5-8a21-c24e17b122a1",
   "metadata": {},
   "outputs": [
    {
     "data": {
      "text/plain": [
       "'Gregory'"
      ]
     },
     "execution_count": 106,
     "metadata": {},
     "output_type": "execute_result"
    }
   ],
   "source": [
    "Participants[-2]"
   ]
  },
  {
   "cell_type": "code",
   "execution_count": null,
   "id": "e761a6e5-53bc-406b-a41b-bd28bcb8062a",
   "metadata": {},
   "outputs": [],
   "source": [
    "#Replacing items on the list"
   ]
  },
  {
   "cell_type": "code",
   "execution_count": 110,
   "id": "a464a8e2-39a5-4066-9147-f6dab3d66f5c",
   "metadata": {},
   "outputs": [
    {
     "data": {
      "text/plain": [
       "['John', 'Leila', 'Gregory', 'Maria']"
      ]
     },
     "execution_count": 110,
     "metadata": {},
     "output_type": "execute_result"
    }
   ],
   "source": [
    "Participants[3]= 'Maria'\n",
    "Participants"
   ]
  },
  {
   "cell_type": "code",
   "execution_count": 112,
   "id": "c726350b-528c-48cf-845c-5571ebce56c0",
   "metadata": {},
   "outputs": [],
   "source": [
    "#Gregory also quit but in this case, there is  no one to replace him\n",
    "#del keyword removes an item from a list\n",
    "#deleting an element changes the indexes of all successive elements."
   ]
  },
  {
   "cell_type": "code",
   "execution_count": 114,
   "id": "4be942e1-f958-4b75-a472-60781b4271dd",
   "metadata": {},
   "outputs": [
    {
     "data": {
      "text/plain": [
       "['John', 'Leila', 'Maria']"
      ]
     },
     "execution_count": 114,
     "metadata": {},
     "output_type": "execute_result"
    }
   ],
   "source": [
    "del Participants[2]\n",
    "Participants"
   ]
  },
  {
   "cell_type": "code",
   "execution_count": 116,
   "id": "dd7d10e0-7fc3-498b-b9f9-5d2554828067",
   "metadata": {},
   "outputs": [
    {
     "data": {
      "text/plain": [
       "'Maria'"
      ]
     },
     "execution_count": 116,
     "metadata": {},
     "output_type": "execute_result"
    }
   ],
   "source": [
    "Participants[2]"
   ]
  },
  {
   "cell_type": "code",
   "execution_count": 140,
   "id": "a18a2413-85a2-411a-946d-6db99faeb205",
   "metadata": {},
   "outputs": [],
   "source": [
    "#adding anew participant to the list you use the .append()method"
   ]
  },
  {
   "cell_type": "code",
   "execution_count": 144,
   "id": "3f2dfd1b-ce01-4073-8fbc-44bb59322e4b",
   "metadata": {},
   "outputs": [
    {
     "data": {
      "text/plain": [
       "['John', 'Leila', 'Maria', 'Dwayne', 'Dwayne']"
      ]
     },
     "execution_count": 144,
     "metadata": {},
     "output_type": "execute_result"
    }
   ],
   "source": [
    "Participants.append(\"Dwayne\")\n",
    "Participants"
   ]
  },
  {
   "cell_type": "code",
   "execution_count": 146,
   "id": "a7c4fc0d-52a1-4710-a722-244c3f983095",
   "metadata": {},
   "outputs": [],
   "source": [
    "del Participants[3]"
   ]
  },
  {
   "cell_type": "code",
   "execution_count": 148,
   "id": "7ef6818e-54bd-4460-a6c7-fec229193644",
   "metadata": {},
   "outputs": [
    {
     "data": {
      "text/plain": [
       "['John', 'Leila', 'Maria', 'Dwayne']"
      ]
     },
     "execution_count": 148,
     "metadata": {},
     "output_type": "execute_result"
    }
   ],
   "source": [
    "Participants"
   ]
  },
  {
   "cell_type": "code",
   "execution_count": null,
   "id": "716d3ab9-0068-435c-9c13-13eb14c6bd6e",
   "metadata": {},
   "outputs": [],
   "source": [
    "#you can also get the same results by using the .extend function for example lets invite George and Catherine into our group "
   ]
  },
  {
   "cell_type": "code",
   "execution_count": 150,
   "id": "dba3f902-4d04-46b1-bebd-0dc44b1de0fc",
   "metadata": {},
   "outputs": [
    {
     "data": {
      "text/plain": [
       "['John', 'Leila', 'Maria', 'Dwayne', 'George', 'Catherine']"
      ]
     },
     "execution_count": 150,
     "metadata": {},
     "output_type": "execute_result"
    }
   ],
   "source": [
    "Participants.extend(['George', 'Catherine'])\n",
    "Participants"
   ]
  },
  {
   "cell_type": "code",
   "execution_count": 152,
   "id": "9db739c0-f91b-440e-ab72-58daf982c3a1",
   "metadata": {},
   "outputs": [],
   "source": [
    "#list elements are directly treated as string values"
   ]
  },
  {
   "cell_type": "code",
   "execution_count": 158,
   "id": "14e1a5bc-bf1a-423f-9cbd-364e883eaaed",
   "metadata": {},
   "outputs": [
    {
     "name": "stdout",
     "output_type": "stream",
     "text": [
      "The first participant isJohn.\n"
     ]
    }
   ],
   "source": [
    "print ('The first participant is' + Participants [0] +'.')"
   ]
  },
  {
   "cell_type": "code",
   "execution_count": null,
   "id": "26d2ddd6-48a9-4330-bebf-05092766e0d3",
   "metadata": {},
   "outputs": [],
   "source": [
    "#len function can obtain the number of elements in a list."
   ]
  },
  {
   "cell_type": "code",
   "execution_count": 166,
   "id": "09d77ed2-6680-4e65-ae7d-fa99b4103b9e",
   "metadata": {},
   "outputs": [
    {
     "data": {
      "text/plain": [
       "6"
      ]
     },
     "execution_count": 166,
     "metadata": {},
     "output_type": "execute_result"
    }
   ],
   "source": [
    "len(Participants)"
   ]
  },
  {
   "cell_type": "code",
   "execution_count": null,
   "id": "82a24d6a-fa13-4e96-9a8b-1a2aa4b73b56",
   "metadata": {},
   "outputs": [],
   "source": []
  },
  {
   "cell_type": "code",
   "execution_count": null,
   "id": "38aabc36-fd5b-4256-91a1-b54858678109",
   "metadata": {},
   "outputs": [],
   "source": []
  },
  {
   "cell_type": "code",
   "execution_count": 120,
   "id": "7a03f87a-2e89-4e9b-b1ac-53395cf2faa5",
   "metadata": {},
   "outputs": [
    {
     "data": {
      "text/plain": [
       "'40'"
      ]
     },
     "execution_count": 120,
     "metadata": {},
     "output_type": "execute_result"
    }
   ],
   "source": [
    "Numbers = ['10', '25', '40', '50']\n",
    "Numbers [2]"
   ]
  },
  {
   "cell_type": "code",
   "execution_count": 128,
   "id": "b0c05047-d681-4979-9065-91b756469a90",
   "metadata": {},
   "outputs": [
    {
     "data": {
      "text/plain": [
       "['15', '25', '40', '50']"
      ]
     },
     "execution_count": 128,
     "metadata": {},
     "output_type": "execute_result"
    }
   ],
   "source": [
    "Numbers[0] = '15'\n",
    "Numbers"
   ]
  },
  {
   "cell_type": "code",
   "execution_count": 168,
   "id": "9b4bc6f6-c750-4115-bf79-3b51a3cda934",
   "metadata": {},
   "outputs": [
    {
     "data": {
      "text/plain": [
       "[15, 40, 50]"
      ]
     },
     "execution_count": 168,
     "metadata": {},
     "output_type": "execute_result"
    }
   ],
   "source": [
    "Numbers =[15, 40, 50]\n",
    "Numbers"
   ]
  },
  {
   "cell_type": "code",
   "execution_count": 170,
   "id": "6bdb1988-2f10-411f-9337-b9189dc99090",
   "metadata": {},
   "outputs": [],
   "source": [
    "Numbers.append(100)"
   ]
  },
  {
   "cell_type": "code",
   "execution_count": 172,
   "id": "54aa821c-f131-41e4-84a7-551fc457e9bd",
   "metadata": {},
   "outputs": [
    {
     "data": {
      "text/plain": [
       "[15, 40, 50, 100]"
      ]
     },
     "execution_count": 172,
     "metadata": {},
     "output_type": "execute_result"
    }
   ],
   "source": [
    "Numbers"
   ]
  },
  {
   "cell_type": "code",
   "execution_count": 178,
   "id": "dfb17bf1-fea7-4b4e-ada8-40a9421b7f57",
   "metadata": {},
   "outputs": [
    {
     "data": {
      "text/plain": [
       "[15, 40, 50, 100, 115, 140]"
      ]
     },
     "execution_count": 178,
     "metadata": {},
     "output_type": "execute_result"
    }
   ],
   "source": [
    "Numbers.extend([115,140])\n",
    "Numbers"
   ]
  },
  {
   "cell_type": "code",
   "execution_count": 180,
   "id": "bc4a4d18-eea6-43db-bb42-cf926a63c695",
   "metadata": {},
   "outputs": [
    {
     "name": "stdout",
     "output_type": "stream",
     "text": [
      "The fourth element of the Numbers list is 100\n"
     ]
    }
   ],
   "source": [
    "print (\"The fourth element of the Numbers list is\", Numbers[3]) "
   ]
  },
  {
   "cell_type": "code",
   "execution_count": 182,
   "id": "ed8ad0cd-6029-4b0b-afdb-aba908d04e87",
   "metadata": {},
   "outputs": [
    {
     "data": {
      "text/plain": [
       "6"
      ]
     },
     "execution_count": 182,
     "metadata": {},
     "output_type": "execute_result"
    }
   ],
   "source": [
    "len(Numbers)"
   ]
  },
  {
   "cell_type": "code",
   "execution_count": null,
   "id": "0fdcebb4-126e-44f1-8b19-063ddab3ad7d",
   "metadata": {},
   "outputs": [],
   "source": []
  }
 ],
 "metadata": {
  "kernelspec": {
   "display_name": "Python 3 (ipykernel)",
   "language": "python",
   "name": "python3"
  },
  "language_info": {
   "codemirror_mode": {
    "name": "ipython",
    "version": 3
   },
   "file_extension": ".py",
   "mimetype": "text/x-python",
   "name": "python",
   "nbconvert_exporter": "python",
   "pygments_lexer": "ipython3",
   "version": "3.12.7"
  }
 },
 "nbformat": 4,
 "nbformat_minor": 5
}

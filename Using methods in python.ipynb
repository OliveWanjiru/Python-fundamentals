{
 "cells": [
  {
   "cell_type": "markdown",
   "id": "7feb66c4-e23c-465a-a001-aa295f8d4857",
   "metadata": {},
   "source": [
    "Using Methods in Python"
   ]
  },
  {
   "cell_type": "code",
   "execution_count": 2,
   "id": "e5194394-f570-4ce6-9346-bd09c8346f0e",
   "metadata": {},
   "outputs": [],
   "source": [
    "import pandas as pd"
   ]
  },
  {
   "cell_type": "markdown",
   "id": "a4f6c2fc-438e-4d95-8850-7f6fc71d4e8e",
   "metadata": {},
   "source": [
    "Attributes provide metadata whilst methods refer to functionalities and bahaviour of the object"
   ]
  },
  {
   "cell_type": "markdown",
   "id": "57ddba10-c32d-40fe-9f14-ca039e14a464",
   "metadata": {},
   "source": [
    "Functions are an independent entity there are not associated to any specific object. Methods can have access to the object's data, can manipulate the objects state"
   ]
  },
  {
   "cell_type": "markdown",
   "id": "c8c27d65-cab1-432d-81be-b46220e9073d",
   "metadata": {},
   "source": [
    "Always add parentheses after the methods name"
   ]
  },
  {
   "cell_type": "markdown",
   "id": "41595dfe-765e-4f0c-94a5-bb83674d52a2",
   "metadata": {},
   "source": [
    "The .head method provides you witha quick and efficient way to catch a glimpse of the structure of your dataset."
   ]
  },
  {
   "cell_type": "markdown",
   "id": "28299208-c32b-44e4-8372-3a005f6cb383",
   "metadata": {},
   "source": [
    "The .tail method does the opposite"
   ]
  },
  {
   "cell_type": "code",
   "execution_count": 9,
   "id": "e277ccd8-a14a-454a-90df-faf4a63df8ca",
   "metadata": {},
   "outputs": [],
   "source": [
    "employees_work_exp = pd.Series({\n",
    "'Amy White'   : 3,\n",
    "'Jack Stewart'   : 5,\n",
    "'Richard Lauderdale'  : 4.5,\n",
    "'Sara Johnson'  : 22,\n",
    "'Patrick Adams' : 28,\n",
    "'Jessica Baker'  : 14,\n",
    "'Peter Hunt'   : 4,\n",
    "'Daniel Lloyd'  : 6,\n",
    "'John Owen'   : 1.5,\n",
    "'Jennifer Phillips'  : 10,\n",
    "'Courtney Rogers'   : 4.5,\n",
    "'Anne Robinson'  : 2,\n",
    "})"
   ]
  },
  {
   "cell_type": "code",
   "execution_count": 11,
   "id": "8882d66d-f6c1-4f2b-95cd-89856aec1868",
   "metadata": {},
   "outputs": [
    {
     "data": {
      "text/plain": [
       "Amy White              3.0\n",
       "Jack Stewart           5.0\n",
       "Richard Lauderdale     4.5\n",
       "Sara Johnson          22.0\n",
       "Patrick Adams         28.0\n",
       "Jessica Baker         14.0\n",
       "Peter Hunt             4.0\n",
       "Daniel Lloyd           6.0\n",
       "John Owen              1.5\n",
       "Jennifer Phillips     10.0\n",
       "Courtney Rogers        4.5\n",
       "Anne Robinson          2.0\n",
       "dtype: float64"
      ]
     },
     "execution_count": 11,
     "metadata": {},
     "output_type": "execute_result"
    }
   ],
   "source": [
    "employees_work_exp"
   ]
  },
  {
   "cell_type": "code",
   "execution_count": 13,
   "id": "51476c89-3748-48e4-9e59-92ef0e9edf14",
   "metadata": {},
   "outputs": [
    {
     "data": {
      "text/plain": [
       "Amy White              3.0\n",
       "Jack Stewart           5.0\n",
       "Richard Lauderdale     4.5\n",
       "Sara Johnson          22.0\n",
       "Patrick Adams         28.0\n",
       "dtype: float64"
      ]
     },
     "execution_count": 13,
     "metadata": {},
     "output_type": "execute_result"
    }
   ],
   "source": [
    "employees_work_exp.head()"
   ]
  },
  {
   "cell_type": "code",
   "execution_count": 15,
   "id": "e4d9db1b-f5eb-406e-bf48-f9a4044c7b11",
   "metadata": {},
   "outputs": [
    {
     "data": {
      "text/plain": [
       "Daniel Lloyd          6.0\n",
       "John Owen             1.5\n",
       "Jennifer Phillips    10.0\n",
       "Courtney Rogers       4.5\n",
       "Anne Robinson         2.0\n",
       "dtype: float64"
      ]
     },
     "execution_count": 15,
     "metadata": {},
     "output_type": "execute_result"
    }
   ],
   "source": [
    "employees_work_exp.tail()"
   ]
  },
  {
   "cell_type": "markdown",
   "id": "a46ed521-d15f-4d27-863c-a5927ced77db",
   "metadata": {},
   "source": [
    "identify the parameters associated with a specific method and then supplying the relevant argument"
   ]
  },
  {
   "cell_type": "code",
   "execution_count": 18,
   "id": "9d67cb9b-54bd-4d55-8ca9-338df49f6205",
   "metadata": {},
   "outputs": [
    {
     "data": {
      "text/plain": [
       "Amy White              3.0\n",
       "Jack Stewart           5.0\n",
       "Richard Lauderdale     4.5\n",
       "Sara Johnson          22.0\n",
       "Patrick Adams         28.0\n",
       "Jessica Baker         14.0\n",
       "Peter Hunt             4.0\n",
       "Daniel Lloyd           6.0\n",
       "John Owen              1.5\n",
       "Jennifer Phillips     10.0\n",
       "dtype: float64"
      ]
     },
     "execution_count": 18,
     "metadata": {},
     "output_type": "execute_result"
    }
   ],
   "source": [
    "employees_work_exp.head(10)"
   ]
  },
  {
   "cell_type": "code",
   "execution_count": 22,
   "id": "d10dfe68-c0f1-43ee-a36c-82b863dbac03",
   "metadata": {},
   "outputs": [
    {
     "data": {
      "text/plain": [
       "Jennifer Phillips    10.0\n",
       "Courtney Rogers       4.5\n",
       "Anne Robinson         2.0\n",
       "dtype: float64"
      ]
     },
     "execution_count": 22,
     "metadata": {},
     "output_type": "execute_result"
    }
   ],
   "source": [
    "employees_work_exp.tail(3)"
   ]
  },
  {
   "cell_type": "markdown",
   "id": "a85b0a35-9555-47c3-9f1c-d2a0b7613353",
   "metadata": {},
   "source": [
    "The head method gives us an option to choose the number of displayed rows drom the object it has been applied to"
   ]
  },
  {
   "cell_type": "markdown",
   "id": "1dfff2ed-d9ed-4717-9474-445ced5de010",
   "metadata": {},
   "source": [
    "3 and 10 are an argument"
   ]
  },
  {
   "cell_type": "markdown",
   "id": "ade5117e-951d-4ef1-ab2b-03506c50bc9a",
   "metadata": {},
   "source": [
    "pandas methos have parameters that you can supply with arguments to modify the performance of the given method."
   ]
  }
 ],
 "metadata": {
  "kernelspec": {
   "display_name": "Python 3 (ipykernel)",
   "language": "python",
   "name": "python3"
  },
  "language_info": {
   "codemirror_mode": {
    "name": "ipython",
    "version": 3
   },
   "file_extension": ".py",
   "mimetype": "text/x-python",
   "name": "python",
   "nbconvert_exporter": "python",
   "pygments_lexer": "ipython3",
   "version": "3.12.7"
  }
 },
 "nbformat": 4,
 "nbformat_minor": 5
}

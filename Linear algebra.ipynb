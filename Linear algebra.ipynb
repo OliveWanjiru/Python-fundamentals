{
 "cells": [
  {
   "cell_type": "markdown",
   "id": "51c5d591-8080-4275-9f3a-482200a7e722",
   "metadata": {},
   "source": [
    "Errors when adding matrices"
   ]
  },
  {
   "cell_type": "markdown",
   "id": "1ccc2874-70d8-487f-a79a-d4f9668365ba",
   "metadata": {},
   "source": [
    "Import relevant libraries"
   ]
  },
  {
   "cell_type": "code",
   "execution_count": 13,
   "id": "ed09b60d-f2ce-4d8b-9b4d-37286c4d56a4",
   "metadata": {},
   "outputs": [],
   "source": [
    "import numpy as np"
   ]
  },
  {
   "cell_type": "markdown",
   "id": "74f88ea9-8713-49b3-82d7-c8dbeda2e270",
   "metadata": {},
   "source": [
    "Addition"
   ]
  },
  {
   "cell_type": "markdown",
   "id": "6ac32af0-c3cd-48a9-9c72-0a372e743aa4",
   "metadata": {},
   "source": [
    "Addition of scalars"
   ]
  },
  {
   "cell_type": "code",
   "execution_count": 17,
   "id": "dfc71ac6-ec87-4a8e-8117-f567ad6694e7",
   "metadata": {},
   "outputs": [
    {
     "data": {
      "text/plain": [
       "10"
      ]
     },
     "execution_count": 17,
     "metadata": {},
     "output_type": "execute_result"
    }
   ],
   "source": [
    "5 + 5"
   ]
  },
  {
   "cell_type": "code",
   "execution_count": 19,
   "id": "1aa57b0e-3e41-4e07-a6c1-5f2bedf8251b",
   "metadata": {},
   "outputs": [
    {
     "data": {
      "text/plain": [
       "6"
      ]
     },
     "execution_count": 19,
     "metadata": {},
     "output_type": "execute_result"
    }
   ],
   "source": [
    "10 - 4 "
   ]
  },
  {
   "cell_type": "markdown",
   "id": "ef44c006-1dc8-48d1-a471-9843ef571ce8",
   "metadata": {},
   "source": [
    "In order to add vectors and matrices their forms must match"
   ]
  },
  {
   "cell_type": "markdown",
   "id": "4defbb4e-6983-4f70-97f9-78a5cfa56fa0",
   "metadata": {},
   "source": [
    "Addition of matrices"
   ]
  },
  {
   "cell_type": "code",
   "execution_count": 23,
   "id": "8ec46847-4cd8-4ddd-b177-a83ce7f20d35",
   "metadata": {},
   "outputs": [
    {
     "data": {
      "text/plain": [
       "array([[ 5, 12,  6],\n",
       "       [-3,  0, 14]])"
      ]
     },
     "execution_count": 23,
     "metadata": {},
     "output_type": "execute_result"
    }
   ],
   "source": [
    "m1 = np.array([[5,12,6],[-3,0,14]])\n",
    "m1"
   ]
  },
  {
   "cell_type": "code",
   "execution_count": 25,
   "id": "2c80fba3-f7f4-4b61-b050-518f7990b2ac",
   "metadata": {},
   "outputs": [
    {
     "data": {
      "text/plain": [
       "array([[ 5,  3],\n",
       "       [-2,  4]])"
      ]
     },
     "execution_count": 25,
     "metadata": {},
     "output_type": "execute_result"
    }
   ],
   "source": [
    "m2 = np.array([[5,3],\n",
    "       [-2,4]])\n",
    "m2"
   ]
  },
  {
   "cell_type": "code",
   "execution_count": 27,
   "id": "f7704c24-901e-419b-b421-5c4245063a73",
   "metadata": {},
   "outputs": [
    {
     "ename": "ValueError",
     "evalue": "operands could not be broadcast together with shapes (2,3) (2,2) ",
     "output_type": "error",
     "traceback": [
      "\u001b[1;31m---------------------------------------------------------------------------\u001b[0m",
      "\u001b[1;31mValueError\u001b[0m                                Traceback (most recent call last)",
      "Cell \u001b[1;32mIn[27], line 1\u001b[0m\n\u001b[1;32m----> 1\u001b[0m m1 \u001b[38;5;241m+\u001b[39m m2\n",
      "\u001b[1;31mValueError\u001b[0m: operands could not be broadcast together with shapes (2,3) (2,2) "
     ]
    }
   ],
   "source": [
    "m1 + m2 "
   ]
  },
  {
   "cell_type": "markdown",
   "id": "dce17635-cfcd-4e77-9887-0b8ce08663d2",
   "metadata": {},
   "source": [
    "Addition of vectors"
   ]
  },
  {
   "cell_type": "markdown",
   "id": "829299c8-017f-4a2b-8d62-89510e815d9a",
   "metadata": {},
   "source": [
    "Same goes for vectors\n"
   ]
  },
  {
   "cell_type": "markdown",
   "id": "95bea079-1f57-4dea-966b-b25c869d0446",
   "metadata": {},
   "source": [
    "Exceptions (addition with a scalar)"
   ]
  },
  {
   "cell_type": "code",
   "execution_count": 32,
   "id": "dc46437d-fc3a-430a-a53c-0b606b5036af",
   "metadata": {},
   "outputs": [
    {
     "data": {
      "text/plain": [
       "array([[ 5, 12,  6],\n",
       "       [-3,  0, 14]])"
      ]
     },
     "execution_count": 32,
     "metadata": {},
     "output_type": "execute_result"
    }
   ],
   "source": [
    "m1"
   ]
  },
  {
   "cell_type": "code",
   "execution_count": 34,
   "id": "c50537f9-2a79-4e21-b864-cb04106e91be",
   "metadata": {},
   "outputs": [
    {
     "data": {
      "text/plain": [
       "array([[ 6, 13,  7],\n",
       "       [-2,  1, 15]])"
      ]
     },
     "execution_count": 34,
     "metadata": {},
     "output_type": "execute_result"
    }
   ],
   "source": [
    "m1 + 1"
   ]
  },
  {
   "cell_type": "code",
   "execution_count": 36,
   "id": "f354e815-cb7a-4271-8cc6-94cd0dd82c95",
   "metadata": {},
   "outputs": [
    {
     "data": {
      "text/plain": [
       "array([1, 2, 3, 4, 5])"
      ]
     },
     "execution_count": 36,
     "metadata": {},
     "output_type": "execute_result"
    }
   ],
   "source": [
    "v1 = np.array([1,2,3,4,5])\n",
    "v1"
   ]
  },
  {
   "cell_type": "code",
   "execution_count": 38,
   "id": "dae1afae-106b-44e4-984b-fd126ff27f36",
   "metadata": {},
   "outputs": [
    {
     "data": {
      "text/plain": [
       "array([2, 3, 4, 5, 6])"
      ]
     },
     "execution_count": 38,
     "metadata": {},
     "output_type": "execute_result"
    }
   ],
   "source": [
    "v1 + 1"
   ]
  },
  {
   "cell_type": "code",
   "execution_count": 40,
   "id": "a932f85a-ba37-4e4e-a7db-fefbb0550333",
   "metadata": {},
   "outputs": [
    {
     "data": {
      "text/plain": [
       "array([[ 6, 13,  7],\n",
       "       [-2,  1, 15]])"
      ]
     },
     "execution_count": 40,
     "metadata": {},
     "output_type": "execute_result"
    }
   ],
   "source": [
    "m1 + np.array([1])"
   ]
  },
  {
   "cell_type": "code",
   "execution_count": 42,
   "id": "bcb6b0e9-eef5-4df6-a604-01b73a7cfebe",
   "metadata": {},
   "outputs": [
    {
     "data": {
      "text/plain": [
       "array([2, 3, 4, 5, 6])"
      ]
     },
     "execution_count": 42,
     "metadata": {},
     "output_type": "execute_result"
    }
   ],
   "source": [
    "v1 + np.array ([1])"
   ]
  },
  {
   "cell_type": "markdown",
   "id": "e293d5f2-1cb8-4219-8cab-92a95df25d63",
   "metadata": {},
   "source": [
    "Transpose of a matrix"
   ]
  },
  {
   "cell_type": "code",
   "execution_count": 45,
   "id": "d1acafea-322f-45a4-bb08-db2b7ce67d0b",
   "metadata": {},
   "outputs": [
    {
     "data": {
      "text/plain": [
       "array([[ 5, 12,  6],\n",
       "       [-3,  0, 14]])"
      ]
     },
     "execution_count": 45,
     "metadata": {},
     "output_type": "execute_result"
    }
   ],
   "source": [
    "m1"
   ]
  },
  {
   "cell_type": "code",
   "execution_count": 47,
   "id": "21d5c829-d222-41fd-af4a-a3b75f8662d0",
   "metadata": {},
   "outputs": [
    {
     "data": {
      "text/plain": [
       "array([[ 5, -3],\n",
       "       [12,  0],\n",
       "       [ 6, 14]])"
      ]
     },
     "execution_count": 47,
     "metadata": {},
     "output_type": "execute_result"
    }
   ],
   "source": [
    "m1.T"
   ]
  },
  {
   "cell_type": "code",
   "execution_count": 49,
   "id": "448be40d-ffcf-43b7-ae8b-ad028bc8c27d",
   "metadata": {},
   "outputs": [
    {
     "data": {
      "text/plain": [
       "array([[ 5,  3],\n",
       "       [-2,  4]])"
      ]
     },
     "execution_count": 49,
     "metadata": {},
     "output_type": "execute_result"
    }
   ],
   "source": [
    "m2"
   ]
  },
  {
   "cell_type": "code",
   "execution_count": 51,
   "id": "314c4d24-590c-4998-8af4-bc498ee3d8f2",
   "metadata": {},
   "outputs": [
    {
     "data": {
      "text/plain": [
       "array([[ 5, -3],\n",
       "       [12,  0],\n",
       "       [ 6, 14]])"
      ]
     },
     "execution_count": 51,
     "metadata": {},
     "output_type": "execute_result"
    }
   ],
   "source": [
    "m1.T"
   ]
  },
  {
   "cell_type": "code",
   "execution_count": 53,
   "id": "fbd3f74f-766c-49e3-909a-25b49051cb6b",
   "metadata": {},
   "outputs": [
    {
     "data": {
      "text/plain": [
       "array([[ 5,  3],\n",
       "       [-2,  4]])"
      ]
     },
     "execution_count": 53,
     "metadata": {},
     "output_type": "execute_result"
    }
   ],
   "source": [
    "m2 "
   ]
  },
  {
   "cell_type": "code",
   "execution_count": 55,
   "id": "6059a72c-9898-42fa-ba9c-3876bdfed465",
   "metadata": {},
   "outputs": [
    {
     "data": {
      "text/plain": [
       "array([[ 5, -2],\n",
       "       [ 3,  4]])"
      ]
     },
     "execution_count": 55,
     "metadata": {},
     "output_type": "execute_result"
    }
   ],
   "source": [
    "m2.T"
   ]
  },
  {
   "cell_type": "code",
   "execution_count": 59,
   "id": "c7ffcccd-6453-4674-a5e6-1016eb225870",
   "metadata": {},
   "outputs": [
    {
     "data": {
      "text/plain": [
       "array([[ 4, -5],\n",
       "       [ 8, 12],\n",
       "       [-2, -3],\n",
       "       [19,  0]])"
      ]
     },
     "execution_count": 59,
     "metadata": {},
     "output_type": "execute_result"
    }
   ],
   "source": [
    "C = np.array([[4,-5],[8,12],[-2,-3],[19,0]])\n",
    "C"
   ]
  },
  {
   "cell_type": "code",
   "execution_count": 61,
   "id": "d647b87a-04fc-4330-9ed4-4b715dd24a48",
   "metadata": {},
   "outputs": [
    {
     "data": {
      "text/plain": [
       "array([[ 4,  8, -2, 19],\n",
       "       [-5, 12, -3,  0]])"
      ]
     },
     "execution_count": 61,
     "metadata": {},
     "output_type": "execute_result"
    }
   ],
   "source": [
    "C.T"
   ]
  },
  {
   "cell_type": "markdown",
   "id": "bcb18a21-c2f7-404c-8952-3bcecc94542b",
   "metadata": {},
   "source": [
    "Transposing scalars"
   ]
  },
  {
   "cell_type": "markdown",
   "id": "40e46db4-3d6b-440d-9f3a-2fb11b2cdf1c",
   "metadata": {},
   "source": [
    "any scalar when transposed equals itself"
   ]
  },
  {
   "cell_type": "code",
   "execution_count": 65,
   "id": "cf554f62-52c6-40f6-b113-9f08d5a6ef78",
   "metadata": {},
   "outputs": [],
   "source": [
    "s = np.array([5])"
   ]
  },
  {
   "cell_type": "code",
   "execution_count": 67,
   "id": "92899ef5-c40d-45a1-910e-06c0b3b5986b",
   "metadata": {},
   "outputs": [
    {
     "data": {
      "text/plain": [
       "array([5])"
      ]
     },
     "execution_count": 67,
     "metadata": {},
     "output_type": "execute_result"
    }
   ],
   "source": [
    "s.T"
   ]
  },
  {
   "cell_type": "markdown",
   "id": "2b75db26-ac7c-45f7-8391-7ade5f0f5a63",
   "metadata": {},
   "source": [
    "Transposing vectors"
   ]
  },
  {
   "cell_type": "code",
   "execution_count": 70,
   "id": "07f343df-8568-40c8-b326-6cfc5ddd50a9",
   "metadata": {},
   "outputs": [
    {
     "data": {
      "text/plain": [
       "array([1, 2, 3, 4, 5])"
      ]
     },
     "execution_count": 70,
     "metadata": {},
     "output_type": "execute_result"
    }
   ],
   "source": [
    "v1"
   ]
  },
  {
   "cell_type": "code",
   "execution_count": 72,
   "id": "b55130df-97d4-49f3-8cd0-fb4f8c92fcdc",
   "metadata": {},
   "outputs": [
    {
     "data": {
      "text/plain": [
       "array([1, 2, 3, 4, 5])"
      ]
     },
     "execution_count": 72,
     "metadata": {},
     "output_type": "execute_result"
    }
   ],
   "source": [
    "v1.T"
   ]
  },
  {
   "cell_type": "markdown",
   "id": "838de20e-28a1-497a-b1d6-753c69e41864",
   "metadata": {},
   "source": [
    "in python one dimensional arrays do not get transposed"
   ]
  },
  {
   "cell_type": "code",
   "execution_count": 77,
   "id": "6ec46634-b2b2-415b-8fbe-529084aa4cad",
   "metadata": {},
   "outputs": [
    {
     "data": {
      "text/plain": [
       "(5,)"
      ]
     },
     "execution_count": 77,
     "metadata": {},
     "output_type": "execute_result"
    }
   ],
   "source": [
    "v1.shape"
   ]
  },
  {
   "cell_type": "code",
   "execution_count": 79,
   "id": "1382cd5b-4261-4c00-a95b-cf0584e7b7bb",
   "metadata": {},
   "outputs": [
    {
     "data": {
      "text/plain": [
       "array([[1, 2, 3, 4, 5]])"
      ]
     },
     "execution_count": 79,
     "metadata": {},
     "output_type": "execute_result"
    }
   ],
   "source": [
    "v1_reshaped = v1.reshape(1,5)\n",
    "v1_reshaped"
   ]
  },
  {
   "cell_type": "code",
   "execution_count": 83,
   "id": "d5db97be-87a6-435f-b9d8-6cd47eb568d7",
   "metadata": {},
   "outputs": [
    {
     "data": {
      "text/plain": [
       "array([[1],\n",
       "       [2],\n",
       "       [3],\n",
       "       [4],\n",
       "       [5]])"
      ]
     },
     "execution_count": 83,
     "metadata": {},
     "output_type": "execute_result"
    }
   ],
   "source": [
    "v1_reshaped.T"
   ]
  },
  {
   "cell_type": "markdown",
   "id": "78eeacfc-b159-485c-a82f-bc520a977a27",
   "metadata": {},
   "source": [
    "Multiplication"
   ]
  },
  {
   "cell_type": "markdown",
   "id": "90e42a14-837b-40f4-aa09-25aeb7961637",
   "metadata": {},
   "source": [
    "Dot product is the sum of the product of the corresponding elements"
   ]
  },
  {
   "cell_type": "markdown",
   "id": "7429c028-0771-4c29-abe4-ce94071932d7",
   "metadata": {},
   "source": [
    "Dot product"
   ]
  },
  {
   "cell_type": "code",
   "execution_count": 90,
   "id": "c1f01372-00e9-42a5-a989-b3269ef35203",
   "metadata": {},
   "outputs": [],
   "source": [
    "x = np.array([2,8,-4])\n",
    "y = np.array([1,-7,3])"
   ]
  },
  {
   "cell_type": "code",
   "execution_count": 92,
   "id": "b7ba851f-df47-4498-b89d-c89e63c86df6",
   "metadata": {},
   "outputs": [
    {
     "data": {
      "text/plain": [
       "-66"
      ]
     },
     "execution_count": 92,
     "metadata": {},
     "output_type": "execute_result"
    }
   ],
   "source": [
    "np.dot(x,y)"
   ]
  },
  {
   "cell_type": "code",
   "execution_count": 94,
   "id": "acd7f731-75d7-438c-b69b-130e0829ae03",
   "metadata": {},
   "outputs": [],
   "source": [
    "u = np.array([0,2,5,8])\n",
    "v = np.array([20,3,4,-1])"
   ]
  },
  {
   "cell_type": "code",
   "execution_count": 96,
   "id": "0012e683-25ce-445a-af65-6364f3d5d69b",
   "metadata": {},
   "outputs": [
    {
     "data": {
      "text/plain": [
       "18"
      ]
     },
     "execution_count": 96,
     "metadata": {},
     "output_type": "execute_result"
    }
   ],
   "source": [
    "np.dot(u,v)"
   ]
  },
  {
   "cell_type": "markdown",
   "id": "91dc0286-3da6-4b30-8f63-ca2dbaa99c9b",
   "metadata": {},
   "source": [
    "scalar * scalar"
   ]
  },
  {
   "cell_type": "code",
   "execution_count": 99,
   "id": "756e66dc-9cfd-4406-b2e3-4339665d05e4",
   "metadata": {},
   "outputs": [
    {
     "data": {
      "text/plain": [
       "30"
      ]
     },
     "execution_count": 99,
     "metadata": {},
     "output_type": "execute_result"
    }
   ],
   "source": [
    "np.dot(5,6)"
   ]
  },
  {
   "cell_type": "code",
   "execution_count": 101,
   "id": "a4477f39-33ed-4860-95b3-39d3a9e44dc2",
   "metadata": {},
   "outputs": [
    {
     "data": {
      "text/plain": [
       "-20"
      ]
     },
     "execution_count": 101,
     "metadata": {},
     "output_type": "execute_result"
    }
   ],
   "source": [
    "np.dot(10,-2)"
   ]
  },
  {
   "cell_type": "markdown",
   "id": "99a70ef9-f3d7-4ee7-a6a2-d89beb73a702",
   "metadata": {},
   "source": [
    "scalar * vector"
   ]
  },
  {
   "cell_type": "code",
   "execution_count": 105,
   "id": "6a5f8565-c442-41f0-99c3-cedf610addf6",
   "metadata": {},
   "outputs": [
    {
     "data": {
      "text/plain": [
       "array([ 2,  8, -4])"
      ]
     },
     "execution_count": 105,
     "metadata": {},
     "output_type": "execute_result"
    }
   ],
   "source": [
    "x"
   ]
  },
  {
   "cell_type": "code",
   "execution_count": 107,
   "id": "dc764268-90f8-45bb-aad2-e29141039d99",
   "metadata": {},
   "outputs": [
    {
     "data": {
      "text/plain": [
       "array([ 10,  40, -20])"
      ]
     },
     "execution_count": 107,
     "metadata": {},
     "output_type": "execute_result"
    }
   ],
   "source": [
    "5 * x"
   ]
  },
  {
   "cell_type": "markdown",
   "id": "c3019042-8479-452b-b508-467c9229650b",
   "metadata": {},
   "source": [
    "Dot product of matrices"
   ]
  },
  {
   "cell_type": "code",
   "execution_count": 110,
   "id": "e6d5fbea-2e55-48dd-9448-d9a5375cce72",
   "metadata": {},
   "outputs": [
    {
     "data": {
      "text/plain": [
       "array([[ 5, 12,  6],\n",
       "       [-3,  0, 14]])"
      ]
     },
     "execution_count": 110,
     "metadata": {},
     "output_type": "execute_result"
    }
   ],
   "source": [
    "m1"
   ]
  },
  {
   "cell_type": "markdown",
   "id": "a48c96a6-3eba-4d08-916e-60f4cbb85b0c",
   "metadata": {},
   "source": [
    "Scalar* matrix"
   ]
  },
  {
   "cell_type": "code",
   "execution_count": 113,
   "id": "75e25856-adc4-4499-9223-bc5ddbf12359",
   "metadata": {},
   "outputs": [
    {
     "data": {
      "text/plain": [
       "array([[15, 36, 18],\n",
       "       [-9,  0, 42]])"
      ]
     },
     "execution_count": 113,
     "metadata": {},
     "output_type": "execute_result"
    }
   ],
   "source": [
    "3 * m1"
   ]
  },
  {
   "cell_type": "markdown",
   "id": "ddd1d3a6-6780-4783-a8bc-5f048f8924bd",
   "metadata": {},
   "source": [
    "matrix * matrix"
   ]
  },
  {
   "cell_type": "markdown",
   "id": "9e408079-e3f0-4fa6-87eb-0be9eb703de5",
   "metadata": {},
   "source": [
    "we can only multiply an mxn matrix with a n x k matrix"
   ]
  },
  {
   "cell_type": "code",
   "execution_count": 117,
   "id": "02f85bd7-6492-4db7-ad82-50a37c2db63a",
   "metadata": {},
   "outputs": [
    {
     "data": {
      "text/plain": [
       "array([[ 2,  8,  3],\n",
       "       [-1,  0,  0]])"
      ]
     },
     "execution_count": 117,
     "metadata": {},
     "output_type": "execute_result"
    }
   ],
   "source": [
    "m3 = np.array([[2,8,3], [-1,0,0]])\n",
    "m3"
   ]
  },
  {
   "cell_type": "code",
   "execution_count": 119,
   "id": "b45c2354-2b55-4214-a6dd-00e297bf5398",
   "metadata": {},
   "outputs": [
    {
     "data": {
      "text/plain": [
       "array([[ 2, -1],\n",
       "       [ 8,  0],\n",
       "       [ 3,  0]])"
      ]
     },
     "execution_count": 119,
     "metadata": {},
     "output_type": "execute_result"
    }
   ],
   "source": [
    "m3.T"
   ]
  },
  {
   "cell_type": "code",
   "execution_count": 123,
   "id": "3c9447a4-2980-4399-a93c-ca3688573a5a",
   "metadata": {},
   "outputs": [
    {
     "data": {
      "text/plain": [
       "array([[124,  -5],\n",
       "       [ 36,   3]])"
      ]
     },
     "execution_count": 123,
     "metadata": {},
     "output_type": "execute_result"
    }
   ],
   "source": [
    "np.dot(m1,m3.T)"
   ]
  },
  {
   "cell_type": "code",
   "execution_count": 125,
   "id": "97d0a74b-c81e-48c6-a499-8cb36e309f28",
   "metadata": {},
   "outputs": [
    {
     "data": {
      "text/plain": [
       "array([[-12,   5,  -5,   1,   6],\n",
       "       [  6,  -2,   0,   0,   3],\n",
       "       [ 10,   2,   0,   8,   0],\n",
       "       [  9,  -4,   8,   3,  -6]])"
      ]
     },
     "execution_count": 125,
     "metadata": {},
     "output_type": "execute_result"
    }
   ],
   "source": [
    "D = np.array([[-12,5,-5,1,6],[6,-2,0,0,3],[10,2,0,8,0],[9,-4,8,3,-6]])\n",
    "D"
   ]
  },
  {
   "cell_type": "code",
   "execution_count": 129,
   "id": "aa9e1086-53bb-4b4f-a0e7-dfa7c39c625a",
   "metadata": {},
   "outputs": [
    {
     "data": {
      "text/plain": [
       "array([[ 6, -1],\n",
       "       [ 8, -4],\n",
       "       [ 2, -2],\n",
       "       [ 7,  4],\n",
       "       [-6, -9]])"
      ]
     },
     "execution_count": 129,
     "metadata": {},
     "output_type": "execute_result"
    }
   ],
   "source": [
    "E = np.array([[6,-1],[8,-4],[2,-2],[7,4],[-6,-9]])\n",
    "E"
   ]
  },
  {
   "cell_type": "code",
   "execution_count": 131,
   "id": "80f10d03-7a73-40f8-86cb-f5377b6bc7da",
   "metadata": {},
   "outputs": [
    {
     "data": {
      "text/plain": [
       "array([[-71, -48],\n",
       "       [  2, -25],\n",
       "       [132,  14],\n",
       "       [ 95,  57]])"
      ]
     },
     "execution_count": 131,
     "metadata": {},
     "output_type": "execute_result"
    }
   ],
   "source": [
    "np.dot(D,E)"
   ]
  },
  {
   "cell_type": "code",
   "execution_count": null,
   "id": "6b06170a-5e75-4787-ab8b-e908061a3bd4",
   "metadata": {},
   "outputs": [],
   "source": []
  }
 ],
 "metadata": {
  "kernelspec": {
   "display_name": "Python 3 (ipykernel)",
   "language": "python",
   "name": "python3"
  },
  "language_info": {
   "codemirror_mode": {
    "name": "ipython",
    "version": 3
   },
   "file_extension": ".py",
   "mimetype": "text/x-python",
   "name": "python",
   "nbconvert_exporter": "python",
   "pygments_lexer": "ipython3",
   "version": "3.12.7"
  }
 },
 "nbformat": 4,
 "nbformat_minor": 5
}

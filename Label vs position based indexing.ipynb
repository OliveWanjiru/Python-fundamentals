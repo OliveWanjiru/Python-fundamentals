{
 "cells": [
  {
   "cell_type": "markdown",
   "id": "f5d85471-9c51-4451-bd10-53092167907d",
   "metadata": {},
   "source": [
    "Label-based vs Position - based indexing"
   ]
  },
  {
   "cell_type": "code",
   "execution_count": 2,
   "id": "70eddb8e-93ad-4f3f-805d-587ad75115b0",
   "metadata": {},
   "outputs": [],
   "source": [
    "import pandas as pd "
   ]
  },
  {
   "cell_type": "code",
   "execution_count": 4,
   "id": "7da92e39-5a7e-4416-8bde-bbf24e2e8f52",
   "metadata": {},
   "outputs": [
    {
     "data": {
      "text/plain": [
       "0    10\n",
       "1    20\n",
       "2    30\n",
       "3    40\n",
       "4    50\n",
       "dtype: int64"
      ]
     },
     "execution_count": 4,
     "metadata": {},
     "output_type": "execute_result"
    }
   ],
   "source": [
    "series_a = pd.Series([10, 20, 30, 40, 50])\n",
    "series_a"
   ]
  },
  {
   "cell_type": "code",
   "execution_count": 6,
   "id": "8df85411-0491-45ac-afc0-68e8ac2a2f03",
   "metadata": {},
   "outputs": [
    {
     "data": {
      "text/plain": [
       "RangeIndex(start=0, stop=5, step=1)"
      ]
     },
     "execution_count": 6,
     "metadata": {},
     "output_type": "execute_result"
    }
   ],
   "source": [
    "series_a.index"
   ]
  },
  {
   "cell_type": "markdown",
   "id": "39482259-f450-4421-b7fb-52e1ff93a94a",
   "metadata": {},
   "source": [
    "This is position based indexing or zero based indexing\n",
    "The index vales refer to a position on the sequence on the right of it."
   ]
  },
  {
   "cell_type": "code",
   "execution_count": 11,
   "id": "fead007e-ba95-45d3-876f-bd2d54e7b941",
   "metadata": {},
   "outputs": [
    {
     "data": {
      "text/plain": [
       "pandas.core.indexes.range.RangeIndex"
      ]
     },
     "execution_count": 11,
     "metadata": {},
     "output_type": "execute_result"
    }
   ],
   "source": [
    "type(series_a.index)"
   ]
  },
  {
   "cell_type": "code",
   "execution_count": 13,
   "id": "7a2d0f77-1162-4540-b2a9-babd42354e25",
   "metadata": {},
   "outputs": [
    {
     "data": {
      "text/plain": [
       "[0, 1, 2, 3, 4]"
      ]
     },
     "execution_count": 13,
     "metadata": {},
     "output_type": "execute_result"
    }
   ],
   "source": [
    "list(series_a.index)"
   ]
  },
  {
   "cell_type": "code",
   "execution_count": 15,
   "id": "0e609a36-c5af-42a7-a1af-92b8c231eb2c",
   "metadata": {},
   "outputs": [
    {
     "data": {
      "text/plain": [
       "Product A    22250\n",
       "Product B    16600\n",
       "Product C    12500\n",
       "dtype: int64"
      ]
     },
     "execution_count": 15,
     "metadata": {},
     "output_type": "execute_result"
    }
   ],
   "source": [
    "prices_per_category = pd.Series({'Product A' : 22250, 'Product B' : 16600, 'Product C' : 12500})\n",
    "prices_per_category"
   ]
  },
  {
   "cell_type": "code",
   "execution_count": 17,
   "id": "87b126c5-974d-411c-9c11-24fcd50abc3a",
   "metadata": {},
   "outputs": [
    {
     "data": {
      "text/plain": [
       "Index(['Product A', 'Product B', 'Product C'], dtype='object')"
      ]
     },
     "execution_count": 17,
     "metadata": {},
     "output_type": "execute_result"
    }
   ],
   "source": [
    "prices_per_category.index"
   ]
  },
  {
   "cell_type": "code",
   "execution_count": 19,
   "id": "ae923d4e-c3fe-444d-a5aa-6f50b720814a",
   "metadata": {},
   "outputs": [
    {
     "data": {
      "text/plain": [
       "pandas.core.indexes.base.Index"
      ]
     },
     "execution_count": 19,
     "metadata": {},
     "output_type": "execute_result"
    }
   ],
   "source": [
    "type(prices_per_category.index)"
   ]
  },
  {
   "cell_type": "markdown",
   "id": "96a5c745-d382-487a-9a90-9e3e39b21e67",
   "metadata": {},
   "source": [
    "Opt for non-numeric indices if we want to use names that will logically correspond to the data values contained in our series\n",
    "such indexing is called labels"
   ]
  },
  {
   "cell_type": "markdown",
   "id": "8ae3ff14-6a6c-4109-950e-9d9dc25192dc",
   "metadata": {},
   "source": [
    "In python programming we have :\n",
    "label-based indexing\n",
    "position-based indexing\n",
    "From an analytical perspective:\n",
    "Explicit indexing\n",
    "Implicit indexing"
   ]
  },
  {
   "cell_type": "markdown",
   "id": "a268d959-2496-4992-8de9-4d5487f568c3",
   "metadata": {},
   "source": [
    "In prices per category we used a dictionary to create a series in which the keys were the index labels we explicitly specified our index hence the phrase explicit indexing\n",
    "If a user doesnt specify an index pandas will immediately attach the default zero-based indexing to their object this way they can refer to the objects values via their positions this is referred to as implicit indexing its the default numeric index"
   ]
  },
  {
   "cell_type": "code",
   "execution_count": 26,
   "id": "b25d63f6-ac13-42cd-886c-ae1b272fdcbb",
   "metadata": {},
   "outputs": [
    {
     "data": {
      "text/plain": [
       "Martin    8\n",
       "George    5\n",
       "dtype: int64"
      ]
     },
     "execution_count": 26,
     "metadata": {},
     "output_type": "execute_result"
    }
   ],
   "source": [
    "workers_work_experience = {'Martin' : 8, 'George' : 5}\n",
    "employees_work_exp = pd.Series(workers_work_experience)\n",
    "employees_work_exp"
   ]
  },
  {
   "cell_type": "code",
   "execution_count": 28,
   "id": "c1ddc7be-5ce2-4d08-8541-13f0d58adbc1",
   "metadata": {},
   "outputs": [
    {
     "data": {
      "text/plain": [
       "Index(['Martin', 'George'], dtype='object')"
      ]
     },
     "execution_count": 28,
     "metadata": {},
     "output_type": "execute_result"
    }
   ],
   "source": [
    "employees_work_exp.index"
   ]
  },
  {
   "cell_type": "code",
   "execution_count": null,
   "id": "7eebe23a-42ac-45e9-a5ea-5cb5c5152525",
   "metadata": {},
   "outputs": [],
   "source": []
  }
 ],
 "metadata": {
  "kernelspec": {
   "display_name": "Python 3 (ipykernel)",
   "language": "python",
   "name": "python3"
  },
  "language_info": {
   "codemirror_mode": {
    "name": "ipython",
    "version": 3
   },
   "file_extension": ".py",
   "mimetype": "text/x-python",
   "name": "python",
   "nbconvert_exporter": "python",
   "pygments_lexer": "ipython3",
   "version": "3.12.7"
  }
 },
 "nbformat": 4,
 "nbformat_minor": 5
}

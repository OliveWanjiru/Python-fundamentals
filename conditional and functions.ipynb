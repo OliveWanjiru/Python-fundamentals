{
 "cells": [
  {
   "cell_type": "code",
   "execution_count": 7,
   "id": "5bce68d0-6c0b-4e78-b831-4aec52520215",
   "metadata": {},
   "outputs": [
    {
     "name": "stdout",
     "output_type": "stream",
     "text": [
      "case 2\n"
     ]
    }
   ],
   "source": [
    "x = 1\n",
    "if x > 3:\n",
    "    print (\"case 1\")\n",
    "else:\n",
    "    print (\"case 2\")"
   ]
  },
  {
   "cell_type": "code",
   "execution_count": 9,
   "id": "144b4b33-b19a-472f-b72c-e8db18749771",
   "metadata": {},
   "outputs": [
    {
     "name": "stdout",
     "output_type": "stream",
     "text": [
      " A calm day\n"
     ]
    }
   ],
   "source": [
    "x = 100\n",
    "if x > 100:\n",
    "    print (\"A busy day\")\n",
    "else:\n",
    "    print (\" A calm day\")"
   ]
  },
  {
   "cell_type": "markdown",
   "id": "8fbf0a3c-ecbb-40c5-bae8-eba7832a2d52",
   "metadata": {},
   "source": [
    "The elif statement"
   ]
  },
  {
   "cell_type": "code",
   "execution_count": 21,
   "id": "df9ccee0-0976-46ae-bdea-1f14de037cfb",
   "metadata": {},
   "outputs": [],
   "source": [
    "def compare_to_five(y):\n",
    "    if y > 5:\n",
    "        return \"Greater\"\n",
    "    elif y < 0:\n",
    "        return \"Negative\"\n",
    "    elif y < 5:\n",
    "        return \"Less\"\n",
    "    else:\n",
    "        return \"Equal\""
   ]
  },
  {
   "cell_type": "code",
   "execution_count": 15,
   "id": "1a72399f-60c8-47ed-b4ec-114535a8b3fa",
   "metadata": {},
   "outputs": [
    {
     "name": "stdout",
     "output_type": "stream",
     "text": [
      "Greater\n"
     ]
    }
   ],
   "source": [
    "print (compare_to_five(10))"
   ]
  },
  {
   "cell_type": "code",
   "execution_count": 17,
   "id": "98b1df22-d59c-42d9-8f9b-6a0d7b69b569",
   "metadata": {},
   "outputs": [
    {
     "name": "stdout",
     "output_type": "stream",
     "text": [
      "Less\n"
     ]
    }
   ],
   "source": [
    "print (compare_to_five(2))"
   ]
  },
  {
   "cell_type": "code",
   "execution_count": 19,
   "id": "c7e85131-5e34-4345-9e09-4d9116e3fcba",
   "metadata": {},
   "outputs": [
    {
     "name": "stdout",
     "output_type": "stream",
     "text": [
      "Equal\n"
     ]
    }
   ],
   "source": [
    "print (compare_to_five(5))"
   ]
  },
  {
   "cell_type": "markdown",
   "id": "e2671bd2-640f-493b-b26e-adcca02478a7",
   "metadata": {},
   "source": [
    " print (compare_to_five(-3))"
   ]
  },
  {
   "cell_type": "code",
   "execution_count": 14,
   "id": "9619c8ba-641f-48f0-a552-c844a21f3c57",
   "metadata": {},
   "outputs": [
    {
     "name": "stdout",
     "output_type": "stream",
     "text": [
      "Average\n"
     ]
    }
   ],
   "source": [
    "x = 200\n",
    "if x > 200: \n",
    "    print (\"Big\")\n",
    "elif x > 100 and x <= 200:\n",
    "    print (\"Average\")\n",
    "else:\n",
    "    print (\"Small\")"
   ]
  },
  {
   "cell_type": "markdown",
   "id": "e522873d-f160-4c97-9fcb-c2a7e062ba87",
   "metadata": {},
   "source": [
    "A note on boolean values"
   ]
  },
  {
   "cell_type": "code",
   "execution_count": 17,
   "id": "bee304ac-34b0-4735-855b-5eb24d3e66b6",
   "metadata": {},
   "outputs": [
    {
     "name": "stdout",
     "output_type": "stream",
     "text": [
      "Incorrect\n"
     ]
    }
   ],
   "source": [
    "x = 2\n",
    "if  x > 4:\n",
    "    print (\"Correct\")\n",
    "else:\n",
    "    print (\"Incorrect\")"
   ]
  },
  {
   "cell_type": "markdown",
   "id": "9ff9940b-43f3-45eb-bfba-779dfe0f76ed",
   "metadata": {},
   "source": [
    "defining functions"
   ]
  },
  {
   "cell_type": "code",
   "execution_count": 20,
   "id": "43a13b4a-0049-403d-86e1-d6a65d7bd0a1",
   "metadata": {},
   "outputs": [],
   "source": [
    "def simple():\n",
    "    print (\"My first function\")"
   ]
  },
  {
   "cell_type": "code",
   "execution_count": 22,
   "id": "c2469e34-87c4-4809-a16a-cbf3ff9340ff",
   "metadata": {},
   "outputs": [
    {
     "name": "stdout",
     "output_type": "stream",
     "text": [
      "My first function\n"
     ]
    }
   ],
   "source": [
    "simple()"
   ]
  },
  {
   "cell_type": "code",
   "execution_count": 24,
   "id": "fa999bc3-2790-4c41-8fb1-96a90bb46e6a",
   "metadata": {},
   "outputs": [],
   "source": [
    "def plus_ten(a):\n",
    "    return a + 10"
   ]
  },
  {
   "cell_type": "code",
   "execution_count": 26,
   "id": "ed4c8bda-365b-44a1-a630-fdd81be6d35a",
   "metadata": {},
   "outputs": [
    {
     "data": {
      "text/plain": [
       "12"
      ]
     },
     "execution_count": 26,
     "metadata": {},
     "output_type": "execute_result"
    }
   ],
   "source": [
    "plus_ten(2)"
   ]
  },
  {
   "cell_type": "code",
   "execution_count": 28,
   "id": "f2edebf7-f8ef-493b-b2eb-b25db36c6828",
   "metadata": {},
   "outputs": [
    {
     "data": {
      "text/plain": [
       "15"
      ]
     },
     "execution_count": 28,
     "metadata": {},
     "output_type": "execute_result"
    }
   ],
   "source": [
    "plus_ten(5)"
   ]
  },
  {
   "cell_type": "code",
   "execution_count": 30,
   "id": "3925e0c3-42ab-483b-9b3c-7948a2c5bde2",
   "metadata": {},
   "outputs": [],
   "source": [
    "def multiplication_by_2(x):\n",
    "    return x * 2"
   ]
  },
  {
   "cell_type": "code",
   "execution_count": 34,
   "id": "b8c85ca7-a1e3-48a3-9453-16fa149599b9",
   "metadata": {},
   "outputs": [],
   "source": [
    "def division_by_2(x):\n",
    "    return x / 2"
   ]
  },
  {
   "cell_type": "code",
   "execution_count": null,
   "id": "68c867b4-f6bc-43b7-9741-fc4abf59560f",
   "metadata": {},
   "outputs": [],
   "source": [
    "another way of defining a function"
   ]
  },
  {
   "cell_type": "code",
   "execution_count": 52,
   "id": "2e20ea1d-54b1-4d62-8f50-020d6f0e0846",
   "metadata": {},
   "outputs": [],
   "source": [
    "def plus_ten(a):\n",
    "    result = a + 10\n",
    "    print (\"Outcome\")\n",
    "    return result\n",
    "#you have to call the result by using the return function."
   ]
  },
  {
   "cell_type": "code",
   "execution_count": 54,
   "id": "85f3befa-b6ee-4938-a489-95c4e64a943d",
   "metadata": {},
   "outputs": [
    {
     "name": "stdout",
     "output_type": "stream",
     "text": [
      "Outcome\n"
     ]
    },
    {
     "data": {
      "text/plain": [
       "12"
      ]
     },
     "execution_count": 54,
     "metadata": {},
     "output_type": "execute_result"
    }
   ],
   "source": [
    "plus_ten(2)"
   ]
  },
  {
   "cell_type": "code",
   "execution_count": 46,
   "id": "982198f9-e421-4401-994b-f9a3f3cb1cd3",
   "metadata": {},
   "outputs": [],
   "source": [
    "#print does not affect the calculation of the output\n",
    "#return does not visualize the output it specifies what a certain function is supposed to give back."
   ]
  },
  {
   "cell_type": "code",
   "execution_count": 56,
   "id": "f51a77a0-6c3e-4665-a48e-293a3a62f841",
   "metadata": {},
   "outputs": [],
   "source": [
    "def exponentiation_exp_2(x):\n",
    "    result = x ** 2\n",
    "    print (\"Raised to the power of 2\")\n",
    "    return result"
   ]
  },
  {
   "cell_type": "code",
   "execution_count": 58,
   "id": "b1608d4f-8816-49e2-88f2-aa4925b8d36a",
   "metadata": {},
   "outputs": [
    {
     "name": "stdout",
     "output_type": "stream",
     "text": [
      "Raised to the power of 2\n"
     ]
    },
    {
     "data": {
      "text/plain": [
       "4"
      ]
     },
     "execution_count": 58,
     "metadata": {},
     "output_type": "execute_result"
    }
   ],
   "source": [
    "exponentiation_exp_2(2)"
   ]
  },
  {
   "cell_type": "code",
   "execution_count": 60,
   "id": "37e78347-a4d3-46c0-892a-3886153fb589",
   "metadata": {},
   "outputs": [],
   "source": [
    "#using a function in another function"
   ]
  },
  {
   "cell_type": "code",
   "execution_count": 62,
   "id": "2cf51b25-ff46-4846-871e-4c1dca3a0491",
   "metadata": {},
   "outputs": [],
   "source": [
    "def wage(w_hours):\n",
    "    return w_hours * 25\n",
    "def with_bonus(w_hours):\n",
    "    return wage(w_hours) + 50\n",
    "#if you do a good job your boss will be very willing to add a $50 bonus so "
   ]
  },
  {
   "cell_type": "code",
   "execution_count": 64,
   "id": "9d10a7bc-3800-4331-b436-b4d36692e0fd",
   "metadata": {},
   "outputs": [
    {
     "data": {
      "text/plain": [
       "(200, 250)"
      ]
     },
     "execution_count": 64,
     "metadata": {},
     "output_type": "execute_result"
    }
   ],
   "source": [
    "wage(8), with_bonus(8)"
   ]
  },
  {
   "cell_type": "code",
   "execution_count": 66,
   "id": "15f1c9b2-a149-46a4-97db-d7e2f38e19ce",
   "metadata": {},
   "outputs": [],
   "source": [
    "def plus_five(a):\n",
    "    return a + 5\n",
    "\n",
    "def m_by_3(a):\n",
    "    return plus_five(a) * 3"
   ]
  },
  {
   "cell_type": "code",
   "execution_count": 68,
   "id": "299258d3-5b5b-4b8a-a64d-55bafa53bce1",
   "metadata": {},
   "outputs": [
    {
     "data": {
      "text/plain": [
       "30"
      ]
     },
     "execution_count": 68,
     "metadata": {},
     "output_type": "execute_result"
    }
   ],
   "source": [
    "m_by_3(5)"
   ]
  },
  {
   "cell_type": "code",
   "execution_count": null,
   "id": "33ae8739-cda9-4fc4-9fc5-0a0d041c2aa0",
   "metadata": {},
   "outputs": [],
   "source": []
  }
 ],
 "metadata": {
  "kernelspec": {
   "display_name": "Python 3 (ipykernel)",
   "language": "python",
   "name": "python3"
  },
  "language_info": {
   "codemirror_mode": {
    "name": "ipython",
    "version": 3
   },
   "file_extension": ".py",
   "mimetype": "text/x-python",
   "name": "python",
   "nbconvert_exporter": "python",
   "pygments_lexer": "ipython3",
   "version": "3.12.7"
  }
 },
 "nbformat": 4,
 "nbformat_minor": 5
}

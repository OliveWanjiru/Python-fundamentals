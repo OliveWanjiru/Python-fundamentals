{
 "cells": [
  {
   "cell_type": "code",
   "execution_count": 1,
   "id": "ec7eecdc-6e4a-4b93-ac93-8dc7c5fbaf06",
   "metadata": {},
   "outputs": [],
   "source": [
    "z =1"
   ]
  },
  {
   "cell_type": "code",
   "execution_count": 3,
   "id": "c9892adc-67d9-41f3-b863-31467528c824",
   "metadata": {},
   "outputs": [
    {
     "data": {
      "text/plain": [
       "1"
      ]
     },
     "execution_count": 3,
     "metadata": {},
     "output_type": "execute_result"
    }
   ],
   "source": [
    "z"
   ]
  },
  {
   "cell_type": "code",
   "execution_count": 5,
   "id": "1c58cd27-bb6e-4cd7-aa4c-b7def611ecc1",
   "metadata": {},
   "outputs": [],
   "source": [
    "z =3"
   ]
  },
  {
   "cell_type": "code",
   "execution_count": 7,
   "id": "8437198f-d940-4a9d-82f3-d39b48e32d8e",
   "metadata": {},
   "outputs": [
    {
     "data": {
      "text/plain": [
       "3"
      ]
     },
     "execution_count": 7,
     "metadata": {},
     "output_type": "execute_result"
    }
   ],
   "source": [
    "z\n"
   ]
  },
  {
   "cell_type": "code",
   "execution_count": 9,
   "id": "ce087b3e-6008-4bb3-9869-7567b7be2d5c",
   "metadata": {},
   "outputs": [
    {
     "data": {
      "text/plain": [
       "8"
      ]
     },
     "execution_count": 9,
     "metadata": {},
     "output_type": "execute_result"
    }
   ],
   "source": [
    "z +5"
   ]
  },
  {
   "cell_type": "code",
   "execution_count": 11,
   "id": "ae727e2c-4513-4883-9d33-5de5567e57ab",
   "metadata": {},
   "outputs": [],
   "source": [
    "z = 7"
   ]
  },
  {
   "cell_type": "code",
   "execution_count": 13,
   "id": "fdb46158-58a6-4059-be8a-411d482c7733",
   "metadata": {},
   "outputs": [
    {
     "data": {
      "text/plain": [
       "7"
      ]
     },
     "execution_count": 13,
     "metadata": {},
     "output_type": "execute_result"
    }
   ],
   "source": [
    "z"
   ]
  },
  {
   "cell_type": "code",
   "execution_count": null,
   "id": "0f44629a-2a20-4ad6-93b0-836f3795c318",
   "metadata": {},
   "outputs": [],
   "source": []
  }
 ],
 "metadata": {
  "kernelspec": {
   "display_name": "Python 3 (ipykernel)",
   "language": "python",
   "name": "python3"
  },
  "language_info": {
   "codemirror_mode": {
    "name": "ipython",
    "version": 3
   },
   "file_extension": ".py",
   "mimetype": "text/x-python",
   "name": "python",
   "nbconvert_exporter": "python",
   "pygments_lexer": "ipython3",
   "version": "3.12.7"
  }
 },
 "nbformat": 4,
 "nbformat_minor": 5
}

{
 "cells": [
  {
   "cell_type": "markdown",
   "id": "31e76aa4-93dc-46f5-b435-d1796b0cdb70",
   "metadata": {},
   "source": [
    "Using an index in pandas"
   ]
  },
  {
   "cell_type": "code",
   "execution_count": 25,
   "id": "1b547a90-6cdf-4c2d-b458-d42819e7e374",
   "metadata": {},
   "outputs": [],
   "source": [
    "import pandas as pd"
   ]
  },
  {
   "cell_type": "code",
   "execution_count": 47,
   "id": "0ea8b15b-b4a7-4e02-921c-5cbf9ea5267c",
   "metadata": {},
   "outputs": [
    {
     "name": "stdout",
     "output_type": "stream",
     "text": [
      "Product A    22250\n",
      "Product B    16600\n",
      "Product C    15600\n",
      "dtype: int64\n"
     ]
    }
   ],
   "source": [
    "prices_per_category = {'Product A' : 22250, 'Product B' : 16600, 'Product C' : 15600}\n",
    "prices_per_category = pd.Series(prices_per_category)\n",
    "print(prices_per_category)"
   ]
  },
  {
   "cell_type": "code",
   "execution_count": 49,
   "id": "c4868f54-28e0-488e-af5f-86442b794fa4",
   "metadata": {},
   "outputs": [
    {
     "data": {
      "text/plain": [
       "pandas.core.series.Series"
      ]
     },
     "execution_count": 49,
     "metadata": {},
     "output_type": "execute_result"
    }
   ],
   "source": [
    "type(prices_per_category)"
   ]
  },
  {
   "cell_type": "code",
   "execution_count": 53,
   "id": "52d24bbe-171f-418a-8234-fefc62de77fc",
   "metadata": {},
   "outputs": [],
   "source": [
    "#index attribute of our series"
   ]
  },
  {
   "cell_type": "code",
   "execution_count": 51,
   "id": "7fba113a-7d2a-44d1-b46f-c16c923c2d7f",
   "metadata": {},
   "outputs": [
    {
     "data": {
      "text/plain": [
       "Index(['Product A', 'Product B', 'Product C'], dtype='object')"
      ]
     },
     "execution_count": 51,
     "metadata": {},
     "output_type": "execute_result"
    }
   ],
   "source": [
    "prices_per_category.index"
   ]
  },
  {
   "cell_type": "code",
   "execution_count": 55,
   "id": "3c6ecdaf-b2bd-4240-8774-99deef29420e",
   "metadata": {},
   "outputs": [],
   "source": [
    "#output = This is an index object containing string values"
   ]
  },
  {
   "cell_type": "code",
   "execution_count": 57,
   "id": "231f4d8b-d5ed-4c0f-aa71-cf6555f1c66b",
   "metadata": {},
   "outputs": [
    {
     "data": {
      "text/plain": [
       "pandas.core.indexes.base.Index"
      ]
     },
     "execution_count": 57,
     "metadata": {},
     "output_type": "execute_result"
    }
   ],
   "source": [
    "type(prices_per_category.index)"
   ]
  },
  {
   "cell_type": "code",
   "execution_count": 41,
   "id": "d86ce305-ec3e-4a73-ab6e-0a15df9fec55",
   "metadata": {},
   "outputs": [
    {
     "name": "stdout",
     "output_type": "stream",
     "text": [
      "Alice       5\n",
      "Bob         8\n",
      "Charlie     3\n",
      "David      10\n",
      "dtype: int64\n"
     ]
    }
   ],
   "source": [
    "import pandas as pd\n",
    "\n",
    "\n",
    "data_dict = {'Alice': 5, 'Bob': 8, 'Charlie': 3, 'David': 10}\n",
    "\n",
    "\n",
    "data_dict = pd.Series(data_dict)\n",
    "\n",
    "print(data_dict)\n"
   ]
  },
  {
   "cell_type": "code",
   "execution_count": 61,
   "id": "ef29b351-569b-4e84-8665-7af46eb0a72e",
   "metadata": {},
   "outputs": [],
   "source": [
    "workers_age = {'Amy White':50, 'Jack Stewart':53, 'Richard Lauderdale':35, 'Sara Johnson':43}"
   ]
  },
  {
   "cell_type": "code",
   "execution_count": 65,
   "id": "22222537-c63b-46d7-8d78-34c7e81dcfbc",
   "metadata": {},
   "outputs": [
    {
     "data": {
      "text/plain": [
       "Amy White             50\n",
       "Jack Stewart          53\n",
       "Richard Lauderdale    35\n",
       "Sara Johnson          43\n",
       "dtype: int64"
      ]
     },
     "execution_count": 65,
     "metadata": {},
     "output_type": "execute_result"
    }
   ],
   "source": [
    "workers_age = pd.Series(workers_age)\n",
    "workers_age"
   ]
  },
  {
   "cell_type": "code",
   "execution_count": 69,
   "id": "e006943c-5903-4318-a736-bcf348ecab7d",
   "metadata": {},
   "outputs": [
    {
     "data": {
      "text/plain": [
       "pandas.core.series.Series"
      ]
     },
     "execution_count": 69,
     "metadata": {},
     "output_type": "execute_result"
    }
   ],
   "source": [
    "type(workers_age)"
   ]
  },
  {
   "cell_type": "code",
   "execution_count": 71,
   "id": "6a20b7c4-a045-498d-860d-7011073211ce",
   "metadata": {},
   "outputs": [
    {
     "data": {
      "text/plain": [
       "Index(['Amy White', 'Jack Stewart', 'Richard Lauderdale', 'Sara Johnson'], dtype='object')"
      ]
     },
     "execution_count": 71,
     "metadata": {},
     "output_type": "execute_result"
    }
   ],
   "source": [
    "workers_age.index"
   ]
  },
  {
   "cell_type": "code",
   "execution_count": null,
   "id": "a56e7c0f-0cf0-4775-845e-addcb672050c",
   "metadata": {},
   "outputs": [],
   "source": []
  }
 ],
 "metadata": {
  "kernelspec": {
   "display_name": "Python 3 (ipykernel)",
   "language": "python",
   "name": "python3"
  },
  "language_info": {
   "codemirror_mode": {
    "name": "ipython",
    "version": 3
   },
   "file_extension": ".py",
   "mimetype": "text/x-python",
   "name": "python",
   "nbconvert_exporter": "python",
   "pygments_lexer": "ipython3",
   "version": "3.12.7"
  }
 },
 "nbformat": 4,
 "nbformat_minor": 5
}

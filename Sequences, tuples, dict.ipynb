{
 "cells": [
  {
   "cell_type": "code",
   "execution_count": 1,
   "id": "6bf546c0-a78d-46bc-bf61-460d1748c8cf",
   "metadata": {},
   "outputs": [],
   "source": [
    "#list slicing when you have a large dataset and you only need to usea tiny portion of it"
   ]
  },
  {
   "cell_type": "code",
   "execution_count": 3,
   "id": "dbdff824-0e11-4fa9-9625-35a4a19058d5",
   "metadata": {},
   "outputs": [
    {
     "data": {
      "text/plain": [
       "['John', 'Leila', 'Maria', 'Dwayne', 'George', 'Catherine']"
      ]
     },
     "execution_count": 3,
     "metadata": {},
     "output_type": "execute_result"
    }
   ],
   "source": [
    "Participants = ['John', 'Leila', 'Maria', 'Dwayne', 'George', 'Catherine']\n",
    "Participants"
   ]
  },
  {
   "cell_type": "code",
   "execution_count": 5,
   "id": "e14e9881-4b0f-4d68-9969-3437a2650115",
   "metadata": {},
   "outputs": [],
   "source": [
    "#imagine you want a smaller list Leila and Maria indexes 1, 2 respectively"
   ]
  },
  {
   "cell_type": "code",
   "execution_count": 7,
   "id": "d5b9e1e2-027d-4d6d-9e31-faf0ed874571",
   "metadata": {},
   "outputs": [
    {
     "data": {
      "text/plain": [
       "['Leila', 'Maria']"
      ]
     },
     "execution_count": 7,
     "metadata": {},
     "output_type": "execute_result"
    }
   ],
   "source": [
    "Participants[1:3]"
   ]
  },
  {
   "cell_type": "code",
   "execution_count": 11,
   "id": "62b988b7-f7a0-49f9-884f-24ffb5ced660",
   "metadata": {},
   "outputs": [
    {
     "data": {
      "text/plain": [
       "['John', 'Leila']"
      ]
     },
     "execution_count": 11,
     "metadata": {},
     "output_type": "execute_result"
    }
   ],
   "source": [
    "Participants[:2]"
   ]
  },
  {
   "cell_type": "code",
   "execution_count": 13,
   "id": "9a2208f4-c4eb-4f58-aa26-a8a871535474",
   "metadata": {},
   "outputs": [
    {
     "data": {
      "text/plain": [
       "['George', 'Catherine']"
      ]
     },
     "execution_count": 13,
     "metadata": {},
     "output_type": "execute_result"
    }
   ],
   "source": [
    "Participants[4:]"
   ]
  },
  {
   "cell_type": "code",
   "execution_count": 15,
   "id": "61352343-1948-4321-a8e4-1d994359a7ab",
   "metadata": {},
   "outputs": [
    {
     "data": {
      "text/plain": [
       "['George', 'Catherine']"
      ]
     },
     "execution_count": 15,
     "metadata": {},
     "output_type": "execute_result"
    }
   ],
   "source": [
    "Participants[-2:]"
   ]
  },
  {
   "cell_type": "code",
   "execution_count": 17,
   "id": "5b455931-2477-4234-9343-c88c6ef0ec20",
   "metadata": {},
   "outputs": [],
   "source": [
    "#assume you know Maria is in the list but you dont know her exact position or you you would like to obtain the index of her position"
   ]
  },
  {
   "cell_type": "code",
   "execution_count": 19,
   "id": "a50c72a8-518a-4847-b000-e6b530defb37",
   "metadata": {},
   "outputs": [
    {
     "data": {
      "text/plain": [
       "2"
      ]
     },
     "execution_count": 19,
     "metadata": {},
     "output_type": "execute_result"
    }
   ],
   "source": [
    "Participants.index(\"Maria\")"
   ]
  },
  {
   "cell_type": "code",
   "execution_count": 21,
   "id": "b4807a01-be36-4523-badf-73263677a3c0",
   "metadata": {},
   "outputs": [],
   "source": [
    "#creating a list of lists it contains the list of participants and a new one of newcomers"
   ]
  },
  {
   "cell_type": "code",
   "execution_count": 23,
   "id": "f699990f-27a9-4587-bf3f-eabc912285a5",
   "metadata": {},
   "outputs": [
    {
     "data": {
      "text/plain": [
       "['Joshua', 'Brittany']"
      ]
     },
     "execution_count": 23,
     "metadata": {},
     "output_type": "execute_result"
    }
   ],
   "source": [
    "Newcomers = ['Joshua', 'Brittany']\n",
    "Newcomers"
   ]
  },
  {
   "cell_type": "code",
   "execution_count": 27,
   "id": "87ee1587-db1d-42a7-82ac-c11a87b04e24",
   "metadata": {},
   "outputs": [
    {
     "data": {
      "text/plain": [
       "[['John', 'Leila', 'Maria', 'Dwayne', 'George', 'Catherine'],\n",
       " ['Joshua', 'Brittany']]"
      ]
     },
     "execution_count": 27,
     "metadata": {},
     "output_type": "execute_result"
    }
   ],
   "source": [
    "Bigger_List = [Participants,Newcomers]\n",
    "Bigger_List"
   ]
  },
  {
   "cell_type": "code",
   "execution_count": 29,
   "id": "6f4a9234-42f2-46b3-807c-200abbece6f7",
   "metadata": {},
   "outputs": [],
   "source": [
    "#.sort() sorts object of list in alphabetical order"
   ]
  },
  {
   "cell_type": "code",
   "execution_count": 33,
   "id": "0dfa634e-8ea1-4a7f-8984-43205b0f308b",
   "metadata": {},
   "outputs": [
    {
     "data": {
      "text/plain": [
       "['Catherine', 'Dwayne', 'George', 'John', 'Leila', 'Maria']"
      ]
     },
     "execution_count": 33,
     "metadata": {},
     "output_type": "execute_result"
    }
   ],
   "source": [
    "Participants.sort()\n",
    "Participants"
   ]
  },
  {
   "cell_type": "code",
   "execution_count": 35,
   "id": "cc2029bc-c0c6-49a2-98d1-98508c0aa858",
   "metadata": {},
   "outputs": [
    {
     "data": {
      "text/plain": [
       "['Maria', 'Leila', 'John', 'George', 'Dwayne', 'Catherine']"
      ]
     },
     "execution_count": 35,
     "metadata": {},
     "output_type": "execute_result"
    }
   ],
   "source": [
    "Participants.sort(reverse=True)\n",
    "Participants"
   ]
  },
  {
   "cell_type": "code",
   "execution_count": 51,
   "id": "0d56aaaf-c440-4419-83fb-6c43951f30fe",
   "metadata": {},
   "outputs": [
    {
     "data": {
      "text/plain": [
       "[1, 2, 3, 4, 5]"
      ]
     },
     "execution_count": 51,
     "metadata": {},
     "output_type": "execute_result"
    }
   ],
   "source": [
    "Numbers = [1, 2, 3, 4, 5]\n",
    "\n",
    "Numbers\n"
   ]
  },
  {
   "cell_type": "code",
   "execution_count": 65,
   "id": "b0f3fefa-eeac-4b65-9cc5-d3f246cd950e",
   "metadata": {},
   "outputs": [],
   "source": [
    " Numbers.sort()"
   ]
  },
  {
   "cell_type": "code",
   "execution_count": 69,
   "id": "bd86d380-1aae-4a06-b5b8-c2d0b498af3f",
   "metadata": {},
   "outputs": [
    {
     "name": "stdout",
     "output_type": "stream",
     "text": [
      "[5, 4, 3, 2, 1]\n"
     ]
    }
   ],
   "source": [
    " Numbers.sort(reverse= True)\n",
    "print (Numbers)"
   ]
  },
  {
   "cell_type": "code",
   "execution_count": 75,
   "id": "87aa5d30-edae-463d-a1e4-49d1c6bb0d97",
   "metadata": {},
   "outputs": [
    {
     "data": {
      "text/plain": [
       "[15, 40, 50, 100, 115, 140]"
      ]
     },
     "execution_count": 75,
     "metadata": {},
     "output_type": "execute_result"
    }
   ],
   "source": [
    "Numbers =[15, 40, 50, 100, 115,140]\n",
    "Numbers"
   ]
  },
  {
   "cell_type": "code",
   "execution_count": 77,
   "id": "217ba109-e84f-49cf-ba11-e0518e10c68e",
   "metadata": {},
   "outputs": [
    {
     "data": {
      "text/plain": [
       "[100, 115]"
      ]
     },
     "execution_count": 77,
     "metadata": {},
     "output_type": "execute_result"
    }
   ],
   "source": [
    "Numbers[3:5]"
   ]
  },
  {
   "cell_type": "code",
   "execution_count": 83,
   "id": "0e86ab20-db0d-48a9-834a-f1dfb5d0ccfc",
   "metadata": {},
   "outputs": [
    {
     "name": "stdout",
     "output_type": "stream",
     "text": [
      "[15, 40, 50, 100]\n"
     ]
    }
   ],
   "source": [
    "print(Numbers[:4])"
   ]
  },
  {
   "cell_type": "code",
   "execution_count": 85,
   "id": "fe190fce-4cd3-4069-b9ad-d3be6e118eb9",
   "metadata": {},
   "outputs": [
    {
     "data": {
      "text/plain": [
       "[50, 100, 115, 140]"
      ]
     },
     "execution_count": 85,
     "metadata": {},
     "output_type": "execute_result"
    }
   ],
   "source": [
    "Numbers[2:]"
   ]
  },
  {
   "cell_type": "code",
   "execution_count": 87,
   "id": "d8e13fe2-6c5f-4499-831d-eab2fd70a4cb",
   "metadata": {},
   "outputs": [
    {
     "data": {
      "text/plain": [
       "[50, 100, 115, 140]"
      ]
     },
     "execution_count": 87,
     "metadata": {},
     "output_type": "execute_result"
    }
   ],
   "source": [
    "Numbers[-4:]"
   ]
  },
  {
   "cell_type": "code",
   "execution_count": 99,
   "id": "e22af5d3-bec4-41aa-857f-38f946d4ad72",
   "metadata": {},
   "outputs": [
    {
     "data": {
      "text/plain": [
       "[15, 40, 50, 100, 115, 140]"
      ]
     },
     "execution_count": 99,
     "metadata": {},
     "output_type": "execute_result"
    }
   ],
   "source": [
    "Numbers.sort()\n",
    "Numbers"
   ]
  },
  {
   "cell_type": "code",
   "execution_count": 89,
   "id": "511b1fc0-72d1-4604-9a50-b3e389608444",
   "metadata": {},
   "outputs": [
    {
     "data": {
      "text/plain": [
       "0"
      ]
     },
     "execution_count": 89,
     "metadata": {},
     "output_type": "execute_result"
    }
   ],
   "source": [
    "Numbers.index(15)"
   ]
  },
  {
   "cell_type": "code",
   "execution_count": 93,
   "id": "524cbed9-9081-472c-b564-e7d4812e6b81",
   "metadata": {},
   "outputs": [
    {
     "data": {
      "text/plain": [
       "[[1, 2], [15, 40, 50, 100, 115, 140]]"
      ]
     },
     "execution_count": 93,
     "metadata": {},
     "output_type": "execute_result"
    }
   ],
   "source": [
    "All_Numbers = [Two_Numbers, Numbers]\n",
    "All_"
   ]
  },
  {
   "cell_type": "code",
   "execution_count": 103,
   "id": "ff52b527-2635-49b6-a5e1-dadc1bcb1cc6",
   "metadata": {},
   "outputs": [],
   "source": [
    "#Tuples this the default sequence type in python"
   ]
  },
  {
   "cell_type": "code",
   "execution_count": 105,
   "id": "e72b02cd-45e9-4541-9894-72f024017b98",
   "metadata": {},
   "outputs": [
    {
     "data": {
      "text/plain": [
       "(40, 41, 42)"
      ]
     },
     "execution_count": 105,
     "metadata": {},
     "output_type": "execute_result"
    }
   ],
   "source": [
    "x = (40, 41, 42)\n",
    "x"
   ]
  },
  {
   "cell_type": "code",
   "execution_count": 107,
   "id": "e3117681-2ae7-4b5a-ba95-6b3e7df3b825",
   "metadata": {},
   "outputs": [
    {
     "data": {
      "text/plain": [
       "(50, 51, 52)"
      ]
     },
     "execution_count": 107,
     "metadata": {},
     "output_type": "execute_result"
    }
   ],
   "source": [
    "y = 50, 51, 52\n",
    "y"
   ]
  },
  {
   "cell_type": "code",
   "execution_count": 109,
   "id": "2f954363-52ca-42d7-a7cf-900a2681a76e",
   "metadata": {},
   "outputs": [
    {
     "data": {
      "text/plain": [
       "6"
      ]
     },
     "execution_count": 109,
     "metadata": {},
     "output_type": "execute_result"
    }
   ],
   "source": [
    "a, b, c = 1, 4, 6\n",
    "c"
   ]
  },
  {
   "cell_type": "code",
   "execution_count": 111,
   "id": "048dd2b4-9950-43bc-9e2b-97aeced70497",
   "metadata": {},
   "outputs": [],
   "source": [
    "#we can index values"
   ]
  },
  {
   "cell_type": "code",
   "execution_count": 113,
   "id": "00c35a7b-b1f0-4fde-9d6b-7a12a9b3a8f9",
   "metadata": {},
   "outputs": [
    {
     "data": {
      "text/plain": [
       "40"
      ]
     },
     "execution_count": 113,
     "metadata": {},
     "output_type": "execute_result"
    }
   ],
   "source": [
    "x[0]"
   ]
  },
  {
   "cell_type": "code",
   "execution_count": 115,
   "id": "d3a8ab06-b026-462f-8002-b4e6abe1f817",
   "metadata": {},
   "outputs": [
    {
     "data": {
      "text/plain": [
       "[(40, 41, 42), (50, 51, 52)]"
      ]
     },
     "execution_count": 115,
     "metadata": {},
     "output_type": "execute_result"
    }
   ],
   "source": [
    "List_1 = [x,y]\n",
    "List_1"
   ]
  },
  {
   "cell_type": "code",
   "execution_count": 119,
   "id": "35d55b8b-97a7-4be1-95be-4f859130a64c",
   "metadata": {},
   "outputs": [
    {
     "name": "stdout",
     "output_type": "stream",
     "text": [
      "30\n",
      " 17\n"
     ]
    }
   ],
   "source": [
    "(age, years_of_school) ='30, 17'.split(',')\n",
    "print(age)\n",
    "print(years_of_school)"
   ]
  },
  {
   "cell_type": "code",
   "execution_count": null,
   "id": "cad80399-41ab-4d16-a5d6-a4a64953e83c",
   "metadata": {},
   "outputs": [],
   "source": [
    "#functions can provide tuples as return value"
   ]
  },
  {
   "cell_type": "code",
   "execution_count": 127,
   "id": "6755b1eb-1687-4312-b1d7-eb25e20d6ba7",
   "metadata": {},
   "outputs": [
    {
     "name": "stdout",
     "output_type": "stream",
     "text": [
      "Area and Perimeter:\n"
     ]
    },
    {
     "data": {
      "text/plain": [
       "(9, 12)"
      ]
     },
     "execution_count": 127,
     "metadata": {},
     "output_type": "execute_result"
    }
   ],
   "source": [
    "def square_info(x):\n",
    "    A = x ** 2\n",
    "    P = 4 * x\n",
    "    print(\"Area and Perimeter:\")\n",
    "    return A,P\n",
    "square_info(3)"
   ]
  },
  {
   "cell_type": "code",
   "execution_count": 129,
   "id": "5c531ea1-08bc-465b-8f43-d6903a878d69",
   "metadata": {},
   "outputs": [
    {
     "data": {
      "text/plain": [
       "('BMW', 'Dodge', 'Ford')"
      ]
     },
     "execution_count": 129,
     "metadata": {},
     "output_type": "execute_result"
    }
   ],
   "source": [
    "Cars = (\"BMW\", \"Dodge\", \"Ford\")\n",
    "Cars"
   ]
  },
  {
   "cell_type": "code",
   "execution_count": 131,
   "id": "fbb7a9d6-c48c-4a97-97ce-538895aac954",
   "metadata": {},
   "outputs": [
    {
     "data": {
      "text/plain": [
       "'Dodge'"
      ]
     },
     "execution_count": 131,
     "metadata": {},
     "output_type": "execute_result"
    }
   ],
   "source": [
    "Cars[1]"
   ]
  },
  {
   "cell_type": "code",
   "execution_count": 133,
   "id": "3da589ec-4ce1-4804-979e-dbc5f304575a",
   "metadata": {},
   "outputs": [
    {
     "name": "stdout",
     "output_type": "stream",
     "text": [
      "Peter\n",
      "24\n"
     ]
    }
   ],
   "source": [
    "name, age = 'Peter,24'.split(',')\n",
    "print (name)\n",
    "print (age)"
   ]
  },
  {
   "cell_type": "code",
   "execution_count": 139,
   "id": "b544d3d6-e0b2-4e85-a049-dd6f5010e816",
   "metadata": {},
   "outputs": [
    {
     "name": "stdout",
     "output_type": "stream",
     "text": [
      "Area and Perimeter\n"
     ]
    },
    {
     "data": {
      "text/plain": [
       "(20, 24)"
      ]
     },
     "execution_count": 139,
     "metadata": {},
     "output_type": "execute_result"
    }
   ],
   "source": [
    "def rectangle_info(l,w):\n",
    "    A = l * w\n",
    "    P = 2 * l + 2 * w\n",
    "    print('Area and Perimeter')\n",
    "    return A,P\n",
    "rectangle_info (2,10)"
   ]
  },
  {
   "cell_type": "code",
   "execution_count": null,
   "id": "e69429e8-2396-4a43-a057-148438d1a94f",
   "metadata": {},
   "outputs": [],
   "source": [
    "#Dictionaries"
   ]
  },
  {
   "cell_type": "code",
   "execution_count": 141,
   "id": "a82c19e1-f204-419d-ad2f-4691b44b38fb",
   "metadata": {},
   "outputs": [
    {
     "data": {
      "text/plain": [
       "{'k1': 'cat', 'k2': 'dog', 'k3': 'mouse', 'k4': 'fish'}"
      ]
     },
     "execution_count": 141,
     "metadata": {},
     "output_type": "execute_result"
    }
   ],
   "source": [
    "dict = {'k1':\"cat\", 'k2':\"dog\", 'k3':\"mouse\", 'k4':\"fish\"}\n",
    "dict"
   ]
  },
  {
   "cell_type": "code",
   "execution_count": null,
   "id": "e6286dd1-7e3f-462e-a5de-0d01a3e18a40",
   "metadata": {},
   "outputs": [],
   "source": []
  }
 ],
 "metadata": {
  "kernelspec": {
   "display_name": "Python 3 (ipykernel)",
   "language": "python",
   "name": "python3"
  },
  "language_info": {
   "codemirror_mode": {
    "name": "ipython",
    "version": 3
   },
   "file_extension": ".py",
   "mimetype": "text/x-python",
   "name": "python",
   "nbconvert_exporter": "python",
   "pygments_lexer": "ipython3",
   "version": "3.12.7"
  }
 },
 "nbformat": 4,
 "nbformat_minor": 5
}
